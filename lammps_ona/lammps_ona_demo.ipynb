{
 "cells": [
  {
   "cell_type": "markdown",
   "metadata": {},
   "source": [
    "## Using LAMMPS to Perform MD Simulations of Coarse-Grained ONA\n",
    "\n",
    "This is an example workflow that initializes parametrized LAMMPS topology file for the coarse-grained ONA model (Ghobadi and Jayaraman, Soft Matter, 2016, 12, 2276) using `MoSDeF`. Besides the standard installation of `mbuild`, `foyer` and its dependencies (https://mosdef.org for more detail), you will need:\n",
    "`mbuild_ona` (https://github.com/zijiewu3/mbuild_ONA)\n"
   ]
  },
  {
   "cell_type": "code",
   "execution_count": null,
   "metadata": {},
   "outputs": [],
   "source": [
    "import mbuild as mb\n",
    "from foyer import Forcefield"
   ]
  },
  {
   "cell_type": "markdown",
   "metadata": {},
   "source": [
    "### Initialization with mBuild\n",
    "Let's start with building a box of ONA double strands. Note we usually start with fully hybridized strands in simulations and observe their behavior at an elevated temperature, as it will be very difficult for un-hybridized strand to perfectly hybridize during a simulation. However, **mbuild_ona** provides classes to construct both single strand (mbuild.Recipes.DNA) or double strand (mbuild.Recipes.DNA_ds) systems."
   ]
  },
  {
   "cell_type": "code",
   "execution_count": null,
   "metadata": {},
   "outputs": [],
   "source": [
    "onaBox = mb.Compound()\n",
    "ds0 = mb.recipes.DNA_ds('ATATATAT')\n",
    "ds1 = mb.recipes.DNA_ds('GCGCGCGC')\n",
    "ds0.translate_to([-0.5,0,0])\n",
    "ds1.translate_to([0.5,0,0])\n",
    "onaBox.add(ds0)\n",
    "onaBox.add(ds1)"
   ]
  },
  {
   "cell_type": "markdown",
   "metadata": {},
   "source": [
    "### AtomTyping with Foyer\n",
    "Now let's use Foyer to do atomtyping and forcefield application."
   ]
  },
  {
   "cell_type": "code",
   "execution_count": null,
   "metadata": {},
   "outputs": [],
   "source": [
    "cgff = Forcefield(forcefield_files='files/ONA.xml')\n",
    "#apply it to the mbuild structure\n",
    "onaBox_typed =cgff.apply(onaBox,assert_dihedral_params=False)\n",
    "#Output a LAMMPS data file\n",
    "mb.formats.lammpsdata.write_lammpsdata(onaBox_typed,'files/ONA.lammps',atom_style='full')"
   ]
  },
  {
   "cell_type": "markdown",
   "metadata": {},
   "source": [
    "To be continued: Running simulation in LAMMPS and result validation..."
   ]
  }
 ],
 "metadata": {
  "kernelspec": {
   "display_name": "Python 3",
   "language": "python",
   "name": "python3"
  },
  "language_info": {
   "codemirror_mode": {
    "name": "ipython",
    "version": 3
   },
   "file_extension": ".py",
   "mimetype": "text/x-python",
   "name": "python",
   "nbconvert_exporter": "python",
   "pygments_lexer": "ipython3",
   "version": "3.7.3"
  }
 },
 "nbformat": 4,
 "nbformat_minor": 2
}
