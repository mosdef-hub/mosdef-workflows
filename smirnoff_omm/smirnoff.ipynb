{
 "cells": [
  {
   "cell_type": "markdown",
   "metadata": {},
   "source": [
    "## Installation\n",
    "\n",
    "Install the OpenFF toolkit\n",
    "```\n",
    "$ conda install -c conda-forge openff-toolkit\n",
    "```\n",
    "\n",
    "\n",
    "This will pull in two force field repos:\n",
    "* [SMIRNOFF99Frosst](https://github.com/openforcefield/smirnoff99Frosst), an early experiment in porting a general force field to SMIRNOFF\n",
    "* [openff-forcefields](https://github.com/openforcefield/openff-forcefields), which contains the mainline OpenFF force fields, including the \"Parsley\" (v1.0.0-v1.3.1) and \"Sage\" (v2.0.0 onwards) lines.\n",
    "\n",
    "Install other dependencies:\n",
    "\n",
    "```\n",
    "$ conda install -c conda-forge mbuild foyer mdtraj nglview openbabel\n",
    "```"
   ]
  },
  {
   "cell_type": "markdown",
   "metadata": {},
   "source": [
    "## Building the our molecular system and model\n",
    "We begin with some imports. We can already see a variety of packages being used: mBuild, Foyer, ParmEd, the OpenFF Toolkit, OpenMM, MDTraj, and NGLView. \n",
    "\n",
    "Take note of all the different data structure interconversions happening. There are *a lot*. This is good that we can get these API working together this often, but maybe not-so-good that we have to do these interconversions so often\n",
    "\n",
    "Note: The OpenFF Toolkit also utilizes RDKit and OpenEyeToolkit. mBuild also utilizes OpenBabel"
   ]
  },
  {
   "cell_type": "code",
   "execution_count": 1,
   "metadata": {},
   "outputs": [
    {
     "name": "stderr",
     "output_type": "stream",
     "text": [
      "Warning: importing 'simtk.openmm' is deprecated.  Import 'openmm' instead.\n"
     ]
    },
    {
     "data": {
      "application/vnd.jupyter.widget-view+json": {
       "model_id": "a20ee8f09d6f4dee82ca60930551d5fa",
       "version_major": 2,
       "version_minor": 0
      },
      "text/plain": []
     },
     "metadata": {},
     "output_type": "display_data"
    }
   ],
   "source": [
    "# MoSDeF tools for initializing and parametrizing systems\n",
    "import foyer\n",
    "import mbuild\n",
    "# For post-simulation analysis and visualization\n",
    "import mdtraj  # Also Omnia\n",
    "import nglview\n",
    "# ParmEd for interconverting data structures\n",
    "import parmed\n",
    "from mbuild.lib.molecules import Ethane\n",
    "# Omnia suite of molecular modelling tools\n",
    "from openff.toolkit.topology import Molecule, Topology\n",
    "from openff.toolkit.typing.engines.smirnoff import ForceField\n",
    "from simtk import openmm, unit"
   ]
  },
  {
   "cell_type": "markdown",
   "metadata": {},
   "source": [
    "We will use mBuild to create a generic Ethane ($C_2H_6$) molecule. \n",
    "While this is imported from the examples, mBuild functionality allows users to construct chemical systems in a lego-like fashion by declaring particles and bonding them. \n",
    "Under the hood, rigid transformations are performed to orient particles-to-be-bonded"
   ]
  },
  {
   "cell_type": "code",
   "execution_count": 2,
   "metadata": {},
   "outputs": [
    {
     "data": {
      "application/vnd.jupyter.widget-view+json": {
       "model_id": "6b5f6b737b0b42b98a8ef65917fe38d0",
       "version_major": 2,
       "version_minor": 0
      },
      "text/plain": [
       "NGLWidget()"
      ]
     },
     "metadata": {},
     "output_type": "display_data"
    }
   ],
   "source": [
    "mbuild_compound = Ethane()\n",
    "mbuild_compound.visualize(backend=\"nglview\")"
   ]
  },
  {
   "cell_type": "markdown",
   "metadata": {},
   "source": [
    "Another operation we can do within mBuild is to take this compound, convert it to an `openbabel.Molecule` object,\n",
    "and obtain the SMILES string for it. If Open Babel doesn't work, run `smiles_string = \"CC\"` and continue."
   ]
  },
  {
   "cell_type": "code",
   "execution_count": null,
   "metadata": {},
   "outputs": [],
   "source": [
    "ethane_obmol = mbuild_compound.to_pybel()\n",
    "ethane_obmol.write(\"smi\", \"out.smi\", overwrite=True)\n",
    "smiles_file = open(\"out.smi\")\n",
    "print(smiles_file.readlines()[0].split()[0])"
   ]
  },
  {
   "cell_type": "markdown",
   "metadata": {},
   "source": [
    "SMILES strings are a common molecule representation and the starting point for many cheminformatics workflows. The OpenFF toolkit provides interfaces to two toolkits: The RDKit and OpenEye toolkits. OpenEye toolkits are free for academic use but require a license, so let's just use RDKit here."
   ]
  },
  {
   "cell_type": "code",
   "execution_count": 4,
   "metadata": {},
   "outputs": [
    {
     "data": {
      "text/plain": [
       "openff.toolkit.topology.molecule.Molecule"
      ]
     },
     "execution_count": 4,
     "metadata": {},
     "output_type": "execute_result"
    }
   ],
   "source": [
    "openff_mol = Molecule.from_smiles(smiles_string)\n",
    "type(openff_mol)"
   ]
  },
  {
   "cell_type": "markdown",
   "metadata": {},
   "source": [
    "The default representation in Jupyter notebooks is a 2-D depiction of the chemical graph."
   ]
  },
  {
   "cell_type": "code",
   "execution_count": 5,
   "metadata": {},
   "outputs": [
    {
     "data": {
      "image/png": "[encoded data removed]",
      "text/plain": [
       "<rdkit.Chem.rdchem.Mol at 0x14fde6310>"
      ]
     },
     "execution_count": 5,
     "metadata": {},
     "output_type": "execute_result"
    }
   ],
   "source": [
    "openff_mol.visualize()"
   ]
  },
  {
   "cell_type": "markdown",
   "metadata": {},
   "source": [
    "However, we can use the OpenFF Toolkit to turn this into a 3-D model. A conformer is simply a single set of 3-D coordinates for a molecule. Many applications involve generating tens or hundreds of conformers; here, let's just generate one conformer and visualize it. (Note that interactive 3-D visualization requires NGLView and therefore won't work if NGLView is not installed or does not work well on your computer.)"
   ]
  },
  {
   "cell_type": "code",
   "execution_count": 6,
   "metadata": {},
   "outputs": [
    {
     "name": "stdout",
     "output_type": "stream",
     "text": [
      "[[ 8.15113187e-01 -5.38336337e-01  4.92812693e-01]\n",
      " [ 2.15479708e+00 -5.16308993e-02 -1.16608376e-02]\n",
      " [ 1.35660172e-04  7.38382339e-04  5.88506460e-04]\n",
      " [ 6.93132877e-01 -1.60666096e+00  2.90616542e-01]\n",
      " [ 7.30285406e-01 -3.80015731e-01  1.57207322e+00]\n",
      " [ 2.96979499e+00 -5.90627909e-01  4.80488449e-01]\n",
      " [ 2.27674198e+00  1.01656127e+00  1.90807253e-01]\n",
      " [ 2.23959613e+00 -2.09655568e-01 -1.09094548e+00]]\n"
     ]
    },
    {
     "data": {
      "application/vnd.jupyter.widget-view+json": {
       "model_id": "bac8e2e443f34253a12cf5c36ce3909f",
       "version_major": 2,
       "version_minor": 0
      },
      "text/plain": [
       "NGLWidget()"
      ]
     },
     "metadata": {},
     "output_type": "display_data"
    }
   ],
   "source": [
    "openff_mol.generate_conformers(n_conformers=1)\n",
    "print(openff_mol.conformers[0].value_in_unit(unit.angstrom))\n",
    "openff_mol.visualize(\n",
    "    backend=\"nglview\"\n",
    ")  # Change to \"rdkit\" for a simpler representation"
   ]
  },
  {
   "cell_type": "markdown",
   "metadata": {},
   "source": [
    "We can convert an `mbuild.Compound` object to a `parmed.Structure`, which includes a `openmm.Topology` object as its `.topology` attribute.\n",
    "`openmm.Topology` objects don't actually know positions, they just know certain atomic and bonding information, but no coordinates/velocities/force field information. We can store the positions separately."
   ]
  },
  {
   "cell_type": "code",
   "execution_count": 7,
   "metadata": {},
   "outputs": [
    {
     "name": "stdout",
     "output_type": "stream",
     "text": [
      "<Topology; 1 chains, 1 residues, 8 atoms, 7 bonds>\n",
      "[[ 2.81966699e-17 -1.40000000e-01 -1.46442715e-17]\n",
      " [-1.06999993e-01 -1.40000000e-01 -6.27354160e-18]\n",
      " [ 3.57000083e-02 -2.16900005e-01  6.53000027e-02]\n",
      " [ 3.57000083e-02 -1.58100008e-01 -9.92999971e-02]\n",
      " [ 0.00000000e+00  0.00000000e+00  0.00000000e+00]\n",
      " [ 1.06999993e-01  0.00000000e+00  0.00000000e+00]\n",
      " [-3.57000083e-02  7.69000053e-02  6.53000027e-02]\n",
      " [-3.57000083e-02  1.81000084e-02 -9.92999971e-02]]\n"
     ]
    }
   ],
   "source": [
    "openmm_topology = mbuild_compound.to_parmed().topology\n",
    "positions = mbuild_compound.xyz\n",
    "print(openmm_topology)\n",
    "print(positions)"
   ]
  },
  {
   "cell_type": "markdown",
   "metadata": {},
   "source": [
    "To translate these objects into `openff.toolkit.topology.Topology` objects, we need to identify the unique molecules, which helps identify the isolated subgraphs - individual molecules that don't bond to anything outside its molecular network. For more see the corresponding [documentation](https://open-forcefield-toolkit.readthedocs.io/en/latest/api/generated/openff.toolkit.topology.Topology.html#openff.toolkit.topology.Topology.from_openmm) page.\n",
    "\n",
    "Using the SMILES string, we can generate an `openff.toolkit.topology.Molecule` object, which is this self-enclosed bonding entity (chemically speaking, this is a molecule)"
   ]
  },
  {
   "cell_type": "code",
   "execution_count": 8,
   "metadata": {},
   "outputs": [
    {
     "data": {
      "image/png": "[encoded data removed]",
      "text/plain": [
       "<rdkit.Chem.rdchem.Mol at 0x14fdde860>"
      ]
     },
     "metadata": {},
     "output_type": "display_data"
    }
   ],
   "source": [
    "ethane_molecule = Molecule.from_smiles(smiles_string)\n",
    "ethane_molecule"
   ]
  },
  {
   "cell_type": "markdown",
   "metadata": {},
   "source": [
    "Now that we have isolated the unique molecules, we can construct our `openff.toolkit.topology.Topology` object from our `openmm.Topology` and `openff.toolkit.topology.Molecule` objects."
   ]
  },
  {
   "cell_type": "code",
   "execution_count": 10,
   "metadata": {},
   "outputs": [
    {
     "data": {
      "text/plain": [
       "<openff.toolkit.topology.topology.Topology at 0x14fe26910>"
      ]
     },
     "execution_count": 10,
     "metadata": {},
     "output_type": "execute_result"
    }
   ],
   "source": [
    "openff_topology = Topology.from_openmm(\n",
    "    openmm_topology, unique_molecules=[ethane_molecule]\n",
    ")\n",
    "openff_topology"
   ]
  },
  {
   "cell_type": "markdown",
   "metadata": {},
   "source": [
    "## Adding in a force field, evaluating energy"
   ]
  },
  {
   "cell_type": "markdown",
   "metadata": {},
   "source": [
    "Next, we need to create our `ForceField` object. These are encoded on disk in `.offxml` files and available by default with installations of the OpenFF Toolkit via the `entry_points` mechanism. Here, we'll load the latest release, version 2.0.0 codename \"Sage.\" For more, see the table in the README of the [`openff-forcefields`](https://github.com/openforcefield/openff-forcefields) repo."
   ]
  },
  {
   "cell_type": "code",
   "execution_count": 11,
   "metadata": {},
   "outputs": [
    {
     "data": {
      "text/plain": [
       "<openff.toolkit.typing.engines.smirnoff.forcefield.ForceField at 0x14fd52310>"
      ]
     },
     "execution_count": 11,
     "metadata": {},
     "output_type": "execute_result"
    }
   ],
   "source": [
    "sage = ForceField(\"openff-2.0.0.offxml\")\n",
    "sage"
   ]
  },
  {
   "cell_type": "markdown",
   "metadata": {},
   "source": [
    "With the `Topology` and `Forcefield` objects, we can create an `openmm.System`. \n",
    "Note the discrepancy/interplay between the objects - `openff` objects are the molecular mechanics building blocks, but `openmm` is ultimately the workhorse for simulating and representing these systems (although you could opt to simulate with other engines via `parmed` and other tools).\n",
    "\n",
    "Note the use of AM1-BCC methods to identify partial charges."
   ]
  },
  {
   "cell_type": "code",
   "execution_count": 12,
   "metadata": {},
   "outputs": [
    {
     "data": {
      "text/plain": [
       "<openmm.openmm.System; proxy of <Swig Object of type 'OpenMM::System *' at 0x14ffa2f30> >"
      ]
     },
     "execution_count": 12,
     "metadata": {},
     "output_type": "execute_result"
    }
   ],
   "source": [
    "openmm_system = sage.create_openmm_system(openff_topology)\n",
    "openmm_system"
   ]
  },
  {
   "cell_type": "markdown",
   "metadata": {},
   "source": [
    "This is a utility function we will use to evaluate the energy of a molecular system.\n",
    "Given an `openmm.System` (force field, parameters, topological, atomic information) and atomic coordinates, we can get a potential energy associated with that set of coordinatess"
   ]
  },
  {
   "cell_type": "code",
   "execution_count": 13,
   "metadata": {},
   "outputs": [],
   "source": [
    "def get_energy(system, positions):\n",
    "    \"\"\"\n",
    "    Return the potential energy.\n",
    "\n",
    "    Parameters\n",
    "    ----------\n",
    "    system : simtk.openmm.System\n",
    "        The system to check\n",
    "    positions : simtk.unit.Quantity of dimension (natoms,3) with units of length\n",
    "        The positions to use\n",
    "    Returns\n",
    "    ---------\n",
    "    energy\n",
    "\n",
    "    Notes\n",
    "    -----\n",
    "    Taken from an openforcefield notebook\n",
    "    \"\"\"\n",
    "\n",
    "    integrator = openmm.VerletIntegrator(1.0 * unit.femtoseconds)\n",
    "    context = openmm.Context(system, integrator)\n",
    "    context.setPositions(positions)\n",
    "    state = context.getState(getEnergy=True)\n",
    "    energy = state.getPotentialEnergy().in_units_of(unit.kilocalories_per_mole)\n",
    "    return energy"
   ]
  },
  {
   "cell_type": "markdown",
   "metadata": {},
   "source": [
    "Next, we will try to calculate the potential energy of our ethane system under the SMIRNOFF force field.\n",
    "As a (small) obstacle to doing this, we need to change the dimensions of our simulation box because some force fields and simulations use cutoffs, and cutoffs cannot be larger than the simulation box itself.\n",
    "\n",
    "Okay 45 kcal/mol, cool. Potential energies of single configurations are usually not helpful for any real physical analysis, but can be helpful in comparing force fields."
   ]
  },
  {
   "cell_type": "code",
   "execution_count": 14,
   "metadata": {},
   "outputs": [
    {
     "data": {
      "text/plain": [
       "Quantity(value=55.69414541020257, unit=kilocalorie/mole)"
      ]
     },
     "execution_count": 14,
     "metadata": {},
     "output_type": "execute_result"
    }
   ],
   "source": [
    "import numpy as np\n",
    "\n",
    "box_vectors = np.eye(3) * 10 * unit.nanometer\n",
    "\n",
    "openmm_system.setDefaultPeriodicBoxVectors(*box_vectors)\n",
    "get_energy(openmm_system, positions)"
   ]
  },
  {
   "cell_type": "markdown",
   "metadata": {},
   "source": [
    "## Tangent: Interfacing with other simulation engines\n",
    "We can use `parmed` to convert the `openmm.Topology`, `openmm.System`, and coordinates into a `parmed.Structure`.\n",
    "From a `parmed.Structure`, we can spit out files appropriate for different simulation packages. \n",
    "Word of caution, while the developers of `parmed` did an excellent job building the conversion tools, please do your due diligence to make sure the output is as you expect"
   ]
  },
  {
   "cell_type": "code",
   "execution_count": 15,
   "metadata": {},
   "outputs": [
    {
     "data": {
      "text/plain": [
       "<Structure 8 atoms; 1 residues; 7 bonds; PBC (orthogonal); NOT parametrized>"
      ]
     },
     "execution_count": 15,
     "metadata": {},
     "output_type": "execute_result"
    }
   ],
   "source": [
    "pmd_structure = parmed.openmm.load_topology(\n",
    "    openmm_topology, system=openmm_system, xyz=positions\n",
    ")\n",
    "pmd_structure"
   ]
  },
  {
   "cell_type": "markdown",
   "metadata": {},
   "source": [
    "## Comparing to the OPLS-AA force field\n",
    "Let's use a different force field. \n",
    "`foyer` ships with an XML of the OPLS-AA force field.\n",
    "We will use `foyer` (which utilizes some `parmed` and `openmm` api) to build our molecular model of ethane with OPLS\n",
    "\n",
    "* Create the `foyer.Forcefield` object\n",
    "* Apply it to our `mbuild.Compound`, get a `parmed.Structure`\n",
    "* Convert the `parmed.Structure` to an `openmm.System`\n",
    "* Reset the box vectors to be consistent with the SMIRNOFF example\n",
    "* Evaluate the energy"
   ]
  },
  {
   "cell_type": "code",
   "execution_count": 16,
   "metadata": {},
   "outputs": [
    {
     "name": "stderr",
     "output_type": "stream",
     "text": [
      "/Users/mwt/miniconda3/envs/openff-system/lib/python3.9/site-packages/foyer/validator.py:165: ValidationWarning: You have empty smart definition(s)\n",
      "  warn(\"You have empty smart definition(s)\", ValidationWarning)\n",
      "/Users/mwt/miniconda3/envs/openff-system/lib/python3.9/site-packages/foyer/forcefield.py:348: UserWarning: Parameters have not been assigned to all impropers. Total system impropers: 8, Parameterized impropers: 0. Note that if your system contains torsions of Ryckaert-Bellemans functional form, all of these torsions are processed as propers\n",
      "  warnings.warn(msg)\n"
     ]
    },
    {
     "data": {
      "text/plain": [
       "Quantity(value=37.52734328319192, unit=kilocalorie/mole)"
      ]
     },
     "execution_count": 16,
     "metadata": {},
     "output_type": "execute_result"
    }
   ],
   "source": [
    "foyer_ff = foyer.Forcefield(name=\"oplsaa\")\n",
    "oplsaa_structure = foyer_ff.apply(mbuild_compound)\n",
    "oplsaa_system = oplsaa_structure.createSystem()\n",
    "oplsaa_system.setDefaultPeriodicBoxVectors(*box_vectors)\n",
    "get_energy(oplsaa_system, oplsaa_structure.positions)"
   ]
  },
  {
   "cell_type": "markdown",
   "metadata": {},
   "source": [
    "37.5 kcal/mol versus 45.0 kcal/mol, for a *single* ethane. This is a little alarming because this energetic difference stems from how the interactions are quantified and parametrized. \n",
    "\n",
    "However, this isn't a deal-breaker since most physically-interesting phenomena depend on changes in (free) energies. So a singular energy isn't important - how it varies when you change configurations or sample configurational space is generally more important"
   ]
  },
  {
   "cell_type": "markdown",
   "metadata": {},
   "source": [
    "## Cracking open the models and looking at parameters\n",
    "\n",
    "In this whole process, we've been dealing with data structures and API that are fairly transparent. \n",
    "What's great now is that we can look in-depth at these data structures. \n",
    "Specifically, we could look at the force field parameters, either within the force field files or molecular models themselves.\n",
    "\n",
    "We're going to crack open these `openmm.System` objects, looking at how some of these forces are parametrized"
   ]
  },
  {
   "cell_type": "markdown",
   "metadata": {},
   "source": [
    "Within the SMIRNOFF force field applied to ethane, we have some harmonic bonds, harmonic angles, periodic torsions, and nonbonded forces"
   ]
  },
  {
   "cell_type": "code",
   "execution_count": 17,
   "metadata": {},
   "outputs": [
    {
     "data": {
      "text/plain": [
       "[<openmm.openmm.PeriodicTorsionForce; proxy of <Swig Object of type 'OpenMM::PeriodicTorsionForce *' at 0x14ff3d600> >,\n",
       " <openmm.openmm.NonbondedForce; proxy of <Swig Object of type 'OpenMM::NonbondedForce *' at 0x1506864b0> >,\n",
       " <openmm.openmm.HarmonicBondForce; proxy of <Swig Object of type 'OpenMM::HarmonicBondForce *' at 0x15066ecc0> >,\n",
       " <openmm.openmm.HarmonicAngleForce; proxy of <Swig Object of type 'OpenMM::HarmonicAngleForce *' at 0x15066ecf0> >]"
      ]
     },
     "execution_count": 17,
     "metadata": {},
     "output_type": "execute_result"
    }
   ],
   "source": [
    "sage_system = openmm_system  # Renaming from earlier\n",
    "sage_system.getForces()"
   ]
  },
  {
   "cell_type": "markdown",
   "metadata": {},
   "source": [
    "Within the OPLS force field applied to ethane, we have some harmonic bonds, harmonic angles, Ryckaert-Belleman torsions, and nonbonded forces. \n",
    "Don't worry about the center of mass motion remover - that's more for running a simulation."
   ]
  },
  {
   "cell_type": "code",
   "execution_count": 18,
   "metadata": {},
   "outputs": [
    {
     "data": {
      "text/plain": [
       "[<openmm.openmm.HarmonicBondForce; proxy of <Swig Object of type 'OpenMM::HarmonicBondForce *' at 0x14ffa1ba0> >,\n",
       " <openmm.openmm.HarmonicAngleForce; proxy of <Swig Object of type 'OpenMM::HarmonicAngleForce *' at 0x15066eb10> >,\n",
       " <openmm.openmm.RBTorsionForce; proxy of <Swig Object of type 'OpenMM::RBTorsionForce *' at 0x15066ef30> >,\n",
       " <openmm.openmm.NonbondedForce; proxy of <Swig Object of type 'OpenMM::NonbondedForce *' at 0x15066eea0> >,\n",
       " <openmm.openmm.CustomNonbondedForce; proxy of <Swig Object of type 'OpenMM::CustomNonbondedForce *' at 0x1507da630> >,\n",
       " <openmm.openmm.CMMotionRemover; proxy of <Swig Object of type 'OpenMM::CMMotionRemover *' at 0x15068a210> >]"
      ]
     },
     "execution_count": 18,
     "metadata": {},
     "output_type": "execute_result"
    }
   ],
   "source": [
    "oplsaa_system.getForces()"
   ]
  },
  {
   "cell_type": "markdown",
   "metadata": {},
   "source": [
    "We are going to compare the *nonbonded parameters* between these `openmm.System` objects. \n",
    "For every particle in our system, we're going to look at their charges, LJ sigmas, and LJ epsilsons (both of these systems utilize Coulombic electrostatics and Lennard-Jones potentials)"
   ]
  },
  {
   "cell_type": "markdown",
   "metadata": {},
   "source": [
    "Based on the charges and frequency-of-appearance, we can see which ones are carbons and which ones are hydrogens. \n",
    "\n",
    "The OPLS-system is more-charged, carbons are more negative and hydrogens are more positive. \n",
    "The SMIRNOFF-system actually isn't electro-neutral, and that might be consequence of having used AM1-BCC for such a small system.\n",
    "\n",
    "The sigmas are pretty similar between FF implementations. The hydrogen epsilsons in SMIRNOFF are about half of those in OPLS. The carbon epsilons in SMIRNOFF are almost double those in OPLS. This is kind of interesting, while SMIRNOFF-ethane has weaker electrostatics (weaker charges), the LJ might compensate with the greater carbon-epsilon."
   ]
  },
  {
   "cell_type": "code",
   "execution_count": 19,
   "metadata": {},
   "outputs": [
    {
     "name": "stdout",
     "output_type": "stream",
     "text": [
      "[Quantity(value=-0.18, unit=elementary charge), Quantity(value=0.5, unit=nanometer), Quantity(value=0.0, unit=kilojoule/mole)]\n",
      "[Quantity(value=-0.09384000208228827, unit=elementary charge), Quantity(value=0.3379531761626621, unit=nanometer), Quantity(value=0.45538911611061844, unit=kilojoule/mole)]\n",
      "---\n",
      "[Quantity(value=0.06, unit=elementary charge), Quantity(value=0.5, unit=nanometer), Quantity(value=0.0, unit=kilojoule/mole)]\n",
      "[Quantity(value=0.03128000069409609, unit=elementary charge), Quantity(value=0.2644543413268125, unit=nanometer), Quantity(value=0.06602135607582665, unit=kilojoule/mole)]\n",
      "---\n",
      "[Quantity(value=0.06, unit=elementary charge), Quantity(value=0.5, unit=nanometer), Quantity(value=0.0, unit=kilojoule/mole)]\n",
      "[Quantity(value=0.03128000069409609, unit=elementary charge), Quantity(value=0.2644543413268125, unit=nanometer), Quantity(value=0.06602135607582665, unit=kilojoule/mole)]\n",
      "---\n",
      "[Quantity(value=0.06, unit=elementary charge), Quantity(value=0.5, unit=nanometer), Quantity(value=0.0, unit=kilojoule/mole)]\n",
      "[Quantity(value=0.03128000069409609, unit=elementary charge), Quantity(value=0.2644543413268125, unit=nanometer), Quantity(value=0.06602135607582665, unit=kilojoule/mole)]\n",
      "---\n",
      "[Quantity(value=-0.18, unit=elementary charge), Quantity(value=0.5, unit=nanometer), Quantity(value=0.0, unit=kilojoule/mole)]\n",
      "[Quantity(value=-0.09384000208228827, unit=elementary charge), Quantity(value=0.3379531761626621, unit=nanometer), Quantity(value=0.45538911611061844, unit=kilojoule/mole)]\n",
      "---\n",
      "[Quantity(value=0.06, unit=elementary charge), Quantity(value=0.5, unit=nanometer), Quantity(value=0.0, unit=kilojoule/mole)]\n",
      "[Quantity(value=0.03128000069409609, unit=elementary charge), Quantity(value=0.2644543413268125, unit=nanometer), Quantity(value=0.06602135607582665, unit=kilojoule/mole)]\n",
      "---\n",
      "[Quantity(value=0.06, unit=elementary charge), Quantity(value=0.5, unit=nanometer), Quantity(value=0.0, unit=kilojoule/mole)]\n",
      "[Quantity(value=0.03128000069409609, unit=elementary charge), Quantity(value=0.2644543413268125, unit=nanometer), Quantity(value=0.06602135607582665, unit=kilojoule/mole)]\n",
      "---\n",
      "[Quantity(value=0.06, unit=elementary charge), Quantity(value=0.5, unit=nanometer), Quantity(value=0.0, unit=kilojoule/mole)]\n",
      "[Quantity(value=0.03128000069409609, unit=elementary charge), Quantity(value=0.2644543413268125, unit=nanometer), Quantity(value=0.06602135607582665, unit=kilojoule/mole)]\n",
      "---\n"
     ]
    }
   ],
   "source": [
    "oplsaa_nonbondedforce = [\n",
    "    f for f in oplsaa_system.getForces() if type(f) == openmm.NonbondedForce\n",
    "][0]\n",
    "sage_nonbondedforce = [\n",
    "    f for f in sage_system.getForces() if type(f) == openmm.NonbondedForce\n",
    "][0]\n",
    "for i in range(oplsaa_nonbondedforce.getNumParticles()):\n",
    "    opls_params = oplsaa_nonbondedforce.getParticleParameters(i)\n",
    "    sage_params = sage_nonbondedforce.getParticleParameters(i)\n",
    "    print(opls_params)\n",
    "    print(sage_params)\n",
    "    print(\"---\")"
   ]
  },
  {
   "cell_type": "markdown",
   "metadata": {},
   "source": [
    "## Running some molecular dynamics simulations\n",
    "We've come this far in building our model with different force fields, we might as well build up the rest of the simulation."
   ]
  },
  {
   "cell_type": "markdown",
   "metadata": {},
   "source": [
    "`openmm` will be used to run our simulation, since we already have an `openmm.System` object. \n",
    "We need an integrator that describes our equations of motion, timestep, and temperature behavior.\n",
    "\n",
    "As a side note, we forcibly made our simulation box really big to address cutoffs, but we can probably go with a smaller box that still fits the bill. The smaller box helps speed up the computation."
   ]
  },
  {
   "cell_type": "code",
   "execution_count": 20,
   "metadata": {},
   "outputs": [],
   "source": [
    "integrator = openmm.LangevinIntegrator(\n",
    "    323 * unit.kelvin, 1.0 / unit.picoseconds, 0.001 * unit.picoseconds\n",
    ")\n",
    "small_box_vectors = box_vectors * 0.2\n",
    "sage_system.setDefaultPeriodicBoxVectors(*small_box_vectors)"
   ]
  },
  {
   "cell_type": "markdown",
   "metadata": {},
   "source": [
    "We combine our `openmm.Topology`, `openmm.System`, and `openmm.Integrator` to make our `openmm.Simulation`, then set the positions"
   ]
  },
  {
   "cell_type": "code",
   "execution_count": 21,
   "metadata": {},
   "outputs": [],
   "source": [
    "sage_simulation = openmm.app.Simulation(openmm_topology, sage_system, integrator)\n",
    "sage_simulation.context.setPositions(positions)"
   ]
  },
  {
   "cell_type": "markdown",
   "metadata": {},
   "source": [
    "Before running the simulation, we need to report some information.\n",
    "Otherwise, the simulation's going to run and we won't have anything to show for it.\n",
    "This is handled in `openmm` by creating `openmmm.reporters` and attaching them to your `openmm.Simulation`\n",
    "We will write out the timeseries of coordinates (trajectory) in a `dcd` format, \n",
    "but also a `pdb` format to show a singular configuration. \n",
    "In this case, we're printing a `pdb` file that corresponds to the first configuration, before any simulation was run."
   ]
  },
  {
   "cell_type": "code",
   "execution_count": 22,
   "metadata": {},
   "outputs": [],
   "source": [
    "sage_simulation.reporters.append(openmm.app.DCDReporter(\"trajectory.dcd\", 10))\n",
    "pdbreporter = openmm.app.PDBReporter(\"first_frame.pdb\", 5000)\n",
    "pdbreporter.report(sage_simulation, sage_simulation.context.getState(-1))"
   ]
  },
  {
   "cell_type": "markdown",
   "metadata": {},
   "source": [
    "Now we can run our simulation!"
   ]
  },
  {
   "cell_type": "code",
   "execution_count": 23,
   "metadata": {},
   "outputs": [],
   "source": [
    "sage_simulation.step(1000)"
   ]
  },
  {
   "cell_type": "markdown",
   "metadata": {},
   "source": [
    "After it's finished, we can load the trajectory files into an `mdtraj.Trajectory` object, and visualize in a jupyter notebook with `nglview`. From this `mdtraj.Trajectory` object, you have pythonic-access to all the coordinates over time, and also access to various analysis libraries within `mdtraj`."
   ]
  },
  {
   "cell_type": "code",
   "execution_count": 24,
   "metadata": {},
   "outputs": [
    {
     "data": {
      "application/vnd.jupyter.widget-view+json": {
       "model_id": "2c3b82f7b15649269a7131b87b70b9c2",
       "version_major": 2,
       "version_minor": 0
      },
      "text/plain": [
       "NGLWidget(max_frame=99)"
      ]
     },
     "metadata": {},
     "output_type": "display_data"
    }
   ],
   "source": [
    "traj = mdtraj.load(\"trajectory.dcd\", top=\"first_frame.pdb\")\n",
    "nglview.show_mdtraj(traj)"
   ]
  }
 ],
 "metadata": {
  "kernelspec": {
   "display_name": "Python 3 (ipykernel)",
   "language": "python",
   "name": "python3"
  },
  "language_info": {
   "codemirror_mode": {
    "name": "ipython",
    "version": 3
   },
   "file_extension": ".py",
   "mimetype": "text/x-python",
   "name": "python",
   "nbconvert_exporter": "python",
   "pygments_lexer": "ipython3",
   "version": "3.9.7"
  }
 },
 "nbformat": 4,
 "nbformat_minor": 2
}
