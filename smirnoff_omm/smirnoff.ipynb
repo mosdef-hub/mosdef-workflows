{
 "cells": [
  {
   "cell_type": "markdown",
   "metadata": {},
   "source": [
    "## Install requirements"
   ]
  },
  {
   "cell_type": "code",
   "execution_count": null,
   "metadata": {},
   "outputs": [],
   "source": [
    "!conda config --add channels omnia && \\\n",
    "conda config --add channels mosdef && \\\n",
    "conda config --add channels conda-forge"
   ]
  },
  {
   "cell_type": "code",
   "execution_count": null,
   "metadata": {},
   "outputs": [],
   "source": [
    "!conda install --file requirements.txt --yes && conda install -c omnia smirnoff99frosst --yes"
   ]
  },
  {
   "cell_type": "markdown",
   "metadata": {},
   "source": [
    "## Build the molecular system and model\n",
    "We begin with some imports. We can already see a variety of packages being used: mBuild, Foyer, ParmEd, OpenForceField, Simtk, OpenMM, MDTraj, and NGLView. \n",
    "\n",
    "Take note of all the different data structure interconversions happening. There are *a lot*. This is good that we can get these API working together this often, but maybe not-so-good that we have to do these interconversions so often\n",
    "\n",
    "Note: OpenForceField also utilizes RDKit and OpenEyeToolkit. mBuild also utilizes OpenBabel"
   ]
  },
  {
   "cell_type": "code",
   "execution_count": null,
   "metadata": {},
   "outputs": [],
   "source": [
    "# MoSDeF tools for initializing and parametrizing systems\n",
    "import mbuild as mb\n",
    "import foyer\n",
    "\n",
    "# ParmEd for interconverting data structures\n",
    "import parmed\n",
    "\n",
    "# Omnia suite of molecular modelling tools\n",
    "from openforcefield.topology import Topology, Molecule\n",
    "from openforcefield.typing.engines.smirnoff import ForceField\n",
    "from simtk import openmm, unit\n",
    "\n",
    "# For post-simulation analysis and visualization\n",
    "import mdtraj # Also Omnia\n",
    "import nglview"
   ]
  },
  {
   "cell_type": "markdown",
   "metadata": {},
   "source": [
    "We will use mBuild to create a generic Ethane ($C_2H_6$) molecule. \n",
    "While this is imported from Open Babel via a SMILES string, mBuild functionality allows users to construct chemical systems in a lego-like fashion by declaring particles and bonding them. \n",
    "Under the hood, rigid transformations are performed to orient particles-to-be-bonded"
   ]
  },
  {
   "cell_type": "code",
   "execution_count": null,
   "metadata": {},
   "outputs": [],
   "source": [
    "mbuild_compound = mb.load('CC', smiles=True)\n",
    "mbuild_compound.visualize(backend='py3dmol')"
   ]
  },
  {
   "cell_type": "markdown",
   "metadata": {},
   "source": [
    "Another operation we can do within mBuild is to take this compound, convert it to an `openbabel.Molecule` object,\n",
    "and obtain the SMILES string for it."
   ]
  },
  {
   "cell_type": "code",
   "execution_count": null,
   "metadata": {},
   "outputs": [],
   "source": [
    "ethane_obmol = mbuild_compound.to_pybel()\n",
    "ethane_obmol.write(\"smi\", 'out.smi', overwrite=True)\n",
    "smiles_string = open('out.smi', 'r').readlines()\n",
    "print(smiles_string)"
   ]
  },
  {
   "cell_type": "markdown",
   "metadata": {},
   "source": [
    "Using foyer, we can convert an `mbuild.Compound` object to an `openmm.Topology` object. \n",
    "`openmm.Topology` objects don't actually know positions, they just know certain atomic and bonding information, but no coordinates/velocities/force field information.\n",
    "This foyer function helps recover the positions in a simple array of `simtk.Quantity`"
   ]
  },
  {
   "cell_type": "code",
   "execution_count": null,
   "metadata": {},
   "outputs": [],
   "source": [
    "omm_topology, xyz = foyer.forcefield.generate_topology(mbuild_compound, residues='Ethane')\n",
    "print(omm_topology)\n",
    "print(xyz)"
   ]
  },
  {
   "cell_type": "markdown",
   "metadata": {},
   "source": [
    "To translate these objects into `openforcefield.Topology` objects, we need to identify the unique molecules, which helps identify the isolated subgraphs - individual molecules that don't bond to anything outside its molecular network. \n",
    "\n",
    "Using the SMILES string, we can generate an `openforcefield.Molecule` object, which is this self-enclosed bonding entity (chemically speaking, this is a molecule)"
   ]
  },
  {
   "cell_type": "code",
   "execution_count": null,
   "metadata": {},
   "outputs": [],
   "source": [
    "ethane_molecule = Molecule.from_smiles(smiles_string[0].split()[0])\n",
    "ethane_molecule"
   ]
  },
  {
   "cell_type": "markdown",
   "metadata": {},
   "source": [
    "Now that we have isolated the unique molecules, we can construct our `openforcefield.Topology` object from our `openmm.Topology` and `openmm.Molecule` objects."
   ]
  },
  {
   "cell_type": "code",
   "execution_count": null,
   "metadata": {},
   "outputs": [],
   "source": [
    "off_topology = Topology.from_openmm(omm_topology, unique_molecules=[ethane_molecule])\n",
    "off_topology"
   ]
  },
  {
   "cell_type": "markdown",
   "metadata": {},
   "source": [
    "## Adding in a force field, evaluating energy"
   ]
  },
  {
   "cell_type": "markdown",
   "metadata": {},
   "source": [
    "Next, we need to create our `openforcefield.Forcefield` object. These are created from `offxml` files, and the OpenForceField group publishes new ones fairly regularly. \n",
    "\n",
    "In the comments is an example (but out-of-date) force field within the [main openforcefield package](https://github.com/openforcefield/openforcefield).\n",
    "\n",
    "The one we are using is the most-recent SMIRNOFF force field (I think this one is Parsley, or maybe just 1.0.0). \n",
    "The SMIRNOFF force fields are being housed in [a separate repo](https://github.com/openforcefield/smirnoff99Frosst), but utilize pythonic `entry_points` to help one repo into another."
   ]
  },
  {
   "cell_type": "code",
   "execution_count": null,
   "metadata": {},
   "outputs": [],
   "source": [
    "off_forcefield = ForceField('test_forcefields/smirnoff99Frosst.offxml')\n",
    "off_forcefield = ForceField('smirnoff99Frosst-1.1.0.offxml')\n",
    "off_forcefield"
   ]
  },
  {
   "cell_type": "markdown",
   "metadata": {},
   "source": [
    "With the `openforcefield.Topology` and `openforcefield.Forcefield` objects, we can create an `openmm.System`. \n",
    "Note the discrepancy/interplay between the objects - `openforcefield` for the molecular mechanics building blocks, but `openmm` is ultimately the workhorse for simulating and representing these systems (although you could opt to simulate with other engines via `parmed`).\n",
    "\n",
    "Note the use of AM1-BCC methods to identify partial charges."
   ]
  },
  {
   "cell_type": "code",
   "execution_count": null,
   "metadata": {},
   "outputs": [],
   "source": [
    "smirnoff_omm_system = off_forcefield.create_openmm_system(off_topology)"
   ]
  },
  {
   "cell_type": "markdown",
   "metadata": {},
   "source": [
    "This is a utility function we will use to evaluate the energy of a molecular system.\n",
    "Given an `openmm.system` (force field, parameters, topological, atomic information) and atomic coordinates, we can get a potential energy associated with that set of coordinatess"
   ]
  },
  {
   "cell_type": "code",
   "execution_count": null,
   "metadata": {},
   "outputs": [],
   "source": [
    "def get_energy(system, positions):\n",
    "    \"\"\"\n",
    "    Return the potential energy.\n",
    "\n",
    "    Parameters\n",
    "    ----------\n",
    "    system : simtk.openmm.System\n",
    "        The system to check\n",
    "    positions : simtk.unit.Quantity of dimension (natoms,3) with units of length\n",
    "        The positions to use\n",
    "    Returns\n",
    "    ---------\n",
    "    energy\n",
    "    \n",
    "    Notes\n",
    "    -----\n",
    "    Taken from an openforcefield notebook\n",
    "    \"\"\"\n",
    "\n",
    "    integrator = openmm.VerletIntegrator(1.0 * unit.femtoseconds)\n",
    "    context = openmm.Context(system, integrator)\n",
    "    context.setPositions(positions)\n",
    "    state = context.getState(getEnergy=True)\n",
    "    energy = state.getPotentialEnergy().in_units_of(unit.kilocalories_per_mole)\n",
    "    return energy"
   ]
  },
  {
   "cell_type": "markdown",
   "metadata": {},
   "source": [
    "Next, we will try to calculate the potential energy of our ethane system under the SMIRNOFF force field.\n",
    "As a (small) obstacle to doing this, we need to change the dimensions of our simulation box because some force fields and simulations use cutoffs, and cutoffs cannot be larger than the simulation box itself.\n",
    "\n",
    "Okay 45 kcal/mol, cool. Potential energies of single configurations are usually not helpful for any real physical analysis, but can be helpful in comparing force fields."
   ]
  },
  {
   "cell_type": "code",
   "execution_count": null,
   "metadata": {},
   "outputs": [],
   "source": [
    "new_vectors = [[10*unit.nanometer, 0*unit.nanometer, 0*unit.nanometer], \n",
    "               [0*unit.nanometer, 10*unit.nanometer, 0*unit.nanometer],\n",
    "               [0*unit.nanometer, 0* unit.nanometer, 10*unit.nanometer]]\n",
    "smirnoff_omm_system.setDefaultPeriodicBoxVectors(*new_vectors)\n",
    "get_energy(smirnoff_omm_system, xyz)"
   ]
  },
  {
   "cell_type": "markdown",
   "metadata": {},
   "source": [
    "## Tangent: Interfacing with other simulation engines\n",
    "We can use `parmed` to convert the `openmm.Topology`, `openmm.System`, and coordinates into a `parmed.Structure`.\n",
    "From a `parmed.Structure`, we can spit out files appropriate for different simulation packages. \n",
    "Word of caution, while the developers of `parmed` did an excellent job building the conversion tools, please do your due diligence to make sure the output is as you expect"
   ]
  },
  {
   "cell_type": "code",
   "execution_count": null,
   "metadata": {},
   "outputs": [],
   "source": [
    "pmd_structure = parmed.openmm.load_topology(omm_topology, system=smirnoff_omm_system, xyz=xyz)\n",
    "pmd_structure"
   ]
  },
  {
   "cell_type": "markdown",
   "metadata": {},
   "source": [
    "## Comparing to the OPLS-AA force field\n",
    "Let's use a different force field. \n",
    "`foyer` ships with an XML of the OPLS-AA force field.\n",
    "We will use `foyer` (which utilizes some `parmed` and `openmm` api) to build our molecular model of ethane with OPLS\n",
    "\n",
    "* Create the `foyer.Forcefield` object\n",
    "* Apply it to our `mbuild.Compound`, get a `parmed.Structure`\n",
    "* Convert the `parmed.Structure` to an `openmm.System`\n",
    "* Reset the box vectors to be consistent with the SMIRNOFF example\n",
    "* Evaluate the energy"
   ]
  },
  {
   "cell_type": "code",
   "execution_count": null,
   "metadata": {},
   "outputs": [],
   "source": [
    "foyer_ff = foyer.Forcefield(name='oplsaa')\n",
    "opls_pmd_structure = foyer_ff.apply(mbuild_compound)\n",
    "opls_omm_system = opls_pmd_structure.createSystem()\n",
    "opls_omm_system.setDefaultPeriodicBoxVectors(*new_vectors)\n",
    "get_energy(opls_omm_system, opls_pmd_structure.positions)"
   ]
  },
  {
   "cell_type": "markdown",
   "metadata": {},
   "source": [
    "37.5 kcal/mol versus 45.0 kcal/mol, for a *single* ethane. This is a little alarming because this energetic difference stems from how the interactions are quantified and parametrized. \n",
    "\n",
    "However, this isn't a deal-breaker since most physically-interesting phenomena depend on changes in (free) energies. So a singular energy isn't important - how it varies when you change configurations or sample configurational space is generally more important"
   ]
  },
  {
   "cell_type": "markdown",
   "metadata": {},
   "source": [
    "## Cracking open the models and looking at parameters\n",
    "\n",
    "In this whole process, we've been dealing with data structures and API that are fairly transparent. \n",
    "What's great now is that we can look in-depth at these data structures. \n",
    "Specifically, we could look at the force field parameters, either within the force field files or molecular models themselves.\n",
    "\n",
    "We're going to crack open these `openmm.System` objects, looking at how some of these forces are parametrized"
   ]
  },
  {
   "cell_type": "markdown",
   "metadata": {},
   "source": [
    "Within the SMIRNOFF force field applied to ethane, we have some harmonic bonds, harmonic angles, periodic torsions, and nonbonded forces"
   ]
  },
  {
   "cell_type": "code",
   "execution_count": null,
   "metadata": {},
   "outputs": [],
   "source": [
    "smirnoff_omm_system.getForces()"
   ]
  },
  {
   "cell_type": "markdown",
   "metadata": {},
   "source": [
    "Within the OPLS force field applied to ethane, we have some harmonic bonds, harmonic angles, Ryckaert-Belleman torsions, and nonbonded forces. \n",
    "Don't worry about the center of mass motion remover - that's more for running a simulation."
   ]
  },
  {
   "cell_type": "code",
   "execution_count": null,
   "metadata": {},
   "outputs": [],
   "source": [
    "opls_omm_system.getForces()"
   ]
  },
  {
   "cell_type": "markdown",
   "metadata": {},
   "source": [
    "We are going to compare the *nonbonded parameters* between these `openmm.System` objects. \n",
    "For every particle in our system, we're going to look at their charges, LJ sigmas, and LJ epsilsons (both of these systems utilize Coulombic electrostatics and Lennard-Jones potentials)"
   ]
  },
  {
   "cell_type": "markdown",
   "metadata": {},
   "source": [
    "Based on the charges and frequency-of-appearance, we can see which ones are carbons and which ones are hydrogens. \n",
    "\n",
    "The OPLS-system is more-charged, carbons are more negative and hydrogens are more positive. \n",
    "The SMIRNOFF-system actually isn't electro-neutral, and that might be consequence of having used AM1-BCC for such a small system.\n",
    "\n",
    "The sigmas are pretty similar between FF implementations. The hydrogen epsilsons in SMIRNOFF are about half of those in OPLS. The carbon epsilons in SMIRNOFF are almost double those in OPLS. This is kind of interesting, while SMIRNOFF-ethane has weaker electrostatics (weaker charges), the LJ might compensate with the greater carbon-epsilon."
   ]
  },
  {
   "cell_type": "code",
   "execution_count": null,
   "metadata": {},
   "outputs": [],
   "source": [
    "opls_omm_nonbond_force = opls_omm_system.getForce(3)\n",
    "smirnoff_omm_nonbond_force = smirnoff_omm_system.getForce(0)\n",
    "for i in range(opls_omm_nonbond_force.getNumParticles()):\n",
    "    opls_params = opls_omm_nonbond_force.getParticleParameters(i)\n",
    "    smirnoff_params = smirnoff_omm_nonbond_force.getParticleParameters(i)    \n",
    "    print(opls_params)\n",
    "    print(smirnoff_params)\n",
    "    print('---')"
   ]
  },
  {
   "cell_type": "markdown",
   "metadata": {},
   "source": [
    "## Running some molecular dynamics simulations\n",
    "We've come this far in building our model with different force fields, we might as well build up the rest of the simulation."
   ]
  },
  {
   "cell_type": "markdown",
   "metadata": {},
   "source": [
    "`openmm` will be used to run our simulation, since we already have an `openmm.System` object. \n",
    "We need an integrator that describes our equations of motion, timestep, and temperature behavior.\n",
    "\n",
    "As a side note, we forcibly made our simulation box really big to address cutoffs, but we can probably go with a smaller box that still fits the bill. The smaller box helps speed up the computation."
   ]
  },
  {
   "cell_type": "code",
   "execution_count": null,
   "metadata": {},
   "outputs": [],
   "source": [
    "integrator = openmm.LangevinIntegrator(323 * unit.kelvin, 1.0/unit.picoseconds, 0.001 * unit.picoseconds)\n",
    "smallbox_vectors = [[2*unit.nanometer, 0*unit.nanometer, 0*unit.nanometer], \n",
    "               [0*unit.nanometer, 2*unit.nanometer, 0*unit.nanometer],\n",
    "               [0*unit.nanometer, 0* unit.nanometer, 2*unit.nanometer]]\n",
    "smirnoff_omm_system.setDefaultPeriodicBoxVectors(*smallbox_vectors)"
   ]
  },
  {
   "cell_type": "markdown",
   "metadata": {},
   "source": [
    "We combine our `openmm.Topology`, `openmm.System`, and `openmm.Integrator` to make our `openmm.Simulation`, then set the positions"
   ]
  },
  {
   "cell_type": "code",
   "execution_count": null,
   "metadata": {},
   "outputs": [],
   "source": [
    "smirnoff_simulation = openmm.app.Simulation(omm_topology, smirnoff_omm_system, integrator)\n",
    "smirnoff_simulation.context.setPositions(xyz)"
   ]
  },
  {
   "cell_type": "markdown",
   "metadata": {},
   "source": [
    "Before running the simulation, we need to report some information.\n",
    "Otherwise, the simulation's going to run and we won't have anything to show for it.\n",
    "This is handled in `openmm` by creating `openmmm.reporters` and attaching them to your `openmm.Simulation`\n",
    "We will write out the timeseries of coordinates (trajectory) in a `dcd` format, \n",
    "but also a `pdb` format to show a singular configuration. \n",
    "In this case, we're printing a `pdb` file that corresponds to the first configuration, before any simulation was run."
   ]
  },
  {
   "cell_type": "code",
   "execution_count": null,
   "metadata": {},
   "outputs": [],
   "source": [
    "smirnoff_simulation.reporters.append(openmm.app.DCDReporter('trajectory.dcd', 10))\n",
    "pdbreporter = openmm.app.PDBReporter('first_frame.pdb', 5000)\n",
    "pdbreporter.report(smirnoff_simulation, smirnoff_simulation.context.getState(-1))"
   ]
  },
  {
   "cell_type": "markdown",
   "metadata": {},
   "source": [
    "Now we can run our simulation!"
   ]
  },
  {
   "cell_type": "code",
   "execution_count": null,
   "metadata": {},
   "outputs": [],
   "source": [
    "smirnoff_simulation.step(1000)"
   ]
  },
  {
   "cell_type": "markdown",
   "metadata": {},
   "source": [
    "After it's finished, we can load the trajectory files into an `mdtraj.Trajectory` object, and visualize in a jupyter notebook with `nglview`. From this `mdtraj.Trajectory` object, you have pythonic-access to all the coordinates over time, and also access to various analysis libraries within `mdtraj`."
   ]
  },
  {
   "cell_type": "code",
   "execution_count": null,
   "metadata": {},
   "outputs": [],
   "source": [
    "traj = mdtraj.load('trajectory.dcd', top='first_frame.pdb')\n",
    "nglview.show_mdtraj(traj)"
   ]
  }
 ],
 "metadata": {
  "kernelspec": {
   "display_name": "Python 3",
   "language": "python",
   "name": "python3"
  },
  "language_info": {
   "codemirror_mode": {
    "name": "ipython",
    "version": 3
   },
   "file_extension": ".py",
   "mimetype": "text/x-python",
   "name": "python",
   "nbconvert_exporter": "python",
   "pygments_lexer": "ipython3",
   "version": "3.7.6"
  }
 },
 "nbformat": 4,
 "nbformat_minor": 2
}
