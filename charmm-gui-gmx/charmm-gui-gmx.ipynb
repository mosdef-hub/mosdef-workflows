{
 "cells": [
  {
   "cell_type": "markdown",
   "metadata": {},
   "source": [
    "# Using CHARMM-GUI + MoSDeF + GROMACS + MDTraj\n",
    "This workflow covers obtaining pre-parametrized structures via CHARMM-GUI,\n",
    "initializing a system using mBuild, writing the appropriate input files for GROMACS,\n",
    "running a simulation with GROMACS, and analyzing a trajectory with MDTraj"
   ]
  },
  {
   "cell_type": "markdown",
   "metadata": {},
   "source": [
    "Outside of the scope of this work is using CHARMM-GUI, \n",
    "but we will assume we have designed and parametrized an ethane molecule via CHARMM-GUI\n",
    "based on the CHARMM force field. The resultant output has relevant parameter and input files for\n",
    "OpenMM, NAMD, CHARMM, and GROMACS. We are also given some structural coordinates for an ethane molecule. "
   ]
  },
  {
   "cell_type": "markdown",
   "metadata": {},
   "source": [
    "In this workflow, we are working with the GROMACS simulation package, so we are interested in the ITP files,\n",
    "`files/ETHA.itp` and `files/charmm36.itp`, as well as the MOL2 file, `files/ethane.mol2`. \n",
    "\n",
    "The ITP files contain all the relevant force field information for a simulation, \n",
    "while the MOL2 file serves as a prototype for constructing an `mb.Compound`"
   ]
  },
  {
   "cell_type": "markdown",
   "metadata": {},
   "source": [
    "## Install requirements"
   ]
  },
  {
   "cell_type": "code",
   "execution_count": null,
   "metadata": {},
   "outputs": [],
   "source": [
    "!conda install --file requirements.txt --yes"
   ]
  },
  {
   "cell_type": "markdown",
   "metadata": {},
   "source": [
    "If `gmx` (the `GROMACS` executable) is not found, install it via `conda`."
   ]
  },
  {
   "cell_type": "code",
   "execution_count": null,
   "metadata": {},
   "outputs": [],
   "source": [
    "!if ! [ -x \"$(command -v gmx)\" ]; then conda install -c bioconda gromacs; fi"
   ]
  },
  {
   "cell_type": "markdown",
   "metadata": {},
   "source": [
    "## Constructing our mb.Compound subclass\n",
    "In this situation, we do not need to construct particles and overlap ports. \n",
    "Instead, we can load coordinates/bonding information from the MOL2 file.\n",
    "We can also set the name of the compound to be consistent with `files/ETHA.itp`"
   ]
  },
  {
   "cell_type": "code",
   "execution_count": null,
   "metadata": {},
   "outputs": [],
   "source": [
    "import mbuild as mb\n",
    "\n",
    "class charmm_ethane(mb.Compound):\n",
    "    def __init__(self):\n",
    "        super(charmm_ethane, self).__init__()\n",
    "        mb.load('files/ethane.mol2', compound=self)\n",
    "        self.name='ETHA'"
   ]
  },
  {
   "cell_type": "markdown",
   "metadata": {},
   "source": [
    "## Re-using this class\n",
    "\n",
    "We will use mBuild functionality to construct a larger mb.Compound by filling a box with these ethane molecules."
   ]
  },
  {
   "cell_type": "code",
   "execution_count": null,
   "metadata": {},
   "outputs": [],
   "source": [
    "prototype = charmm_ethane()\n",
    "n_ethane = 100\n",
    "ethane_box = mb.fill_box(compound=prototype, n_compounds=n_ethane, density=1)"
   ]
  },
  {
   "cell_type": "markdown",
   "metadata": {},
   "source": [
    "## Writing coordinates to disk\n",
    "We can `save` this compound to disk in a variety of file formats. Since we are performing a GROMACS simulation, we will save the coordinates to a `gro` file, additionally specifying residue names."
   ]
  },
  {
   "cell_type": "code",
   "execution_count": null,
   "metadata": {},
   "outputs": [],
   "source": [
    "ethane_box.save('box.gro', residues=['ETHA'], overwrite=True)"
   ]
  },
  {
   "cell_type": "markdown",
   "metadata": {},
   "source": [
    "## Writing force field information to disk\n",
    "By using the #include statement functionality in gromacs, we can write a fairly simple `top` file.\n",
    "This `top` file will pull force field parameters from `files/charmm36.itp` and `files/ETHA.itp`.\n",
    "\n",
    "In this example, the use of `ITP` files helps streamline the force field parametrization process\n",
    "because these compounds were already parametrized"
   ]
  },
  {
   "cell_type": "code",
   "execution_count": null,
   "metadata": {},
   "outputs": [],
   "source": [
    "with open('box.top', 'w') as f:\n",
    "    f.write(\"#include \\\"files/charmm36.itp\\\" \\n\")\n",
    "    f.write(\"#include \\\"files/ETHA.itp\\\" \\n\")\n",
    "    f.write(\"[ System ] \\n\")\n",
    "    f.write('mBuild box of ethane\\n')\n",
    "    f.write(\"[ Molecules ] \\n\")\n",
    "    f.write(\"{} {}\".format(prototype.name, n_ethane))"
   ]
  },
  {
   "cell_type": "markdown",
   "metadata": {},
   "source": [
    "## Perform energy minimization and NPT simulation in GROMACS\n",
    "This is an uninteresting system with very few timesteps, but we will continue with the simulation steps"
   ]
  },
  {
   "cell_type": "code",
   "execution_count": null,
   "metadata": {},
   "outputs": [],
   "source": [
    "!gmx grompp -f files/em.mdp -c box.gro -p box.top -o em -maxwarn 1"
   ]
  },
  {
   "cell_type": "code",
   "execution_count": null,
   "metadata": {},
   "outputs": [],
   "source": [
    "!gmx mdrun -deffnm em"
   ]
  },
  {
   "cell_type": "code",
   "execution_count": null,
   "metadata": {},
   "outputs": [],
   "source": [
    "!gmx grompp -f files/npt.mdp -c em.gro -p box.top -o npt"
   ]
  },
  {
   "cell_type": "code",
   "execution_count": null,
   "metadata": {},
   "outputs": [],
   "source": [
    "!gmx mdrun -deffnm npt"
   ]
  },
  {
   "cell_type": "markdown",
   "metadata": {},
   "source": [
    "## Analyzing trajectories with MDTraj\n",
    "After performing a simulation, we can read the relevant trajectory files into an `mdtraj.Trajectory` object,\n",
    "an in-memory, digital representation of a trajectory.\n",
    "\n",
    "MDTraj has a variety of functionality, but for convenience we will just compute the density of the system"
   ]
  },
  {
   "cell_type": "code",
   "execution_count": null,
   "metadata": {},
   "outputs": [],
   "source": [
    "import mdtraj\n",
    "traj = mdtraj.load('npt.xtc', top='npt.gro')\n",
    "rho = mdtraj.density(traj)"
   ]
  },
  {
   "cell_type": "markdown",
   "metadata": {},
   "source": [
    "## Validation and comparison to reference data\n",
    "A reference density-timeseries is located in `files/rho.dat`. \n",
    "We can load the reference data and compare to our simulated reference data."
   ]
  },
  {
   "cell_type": "code",
   "execution_count": null,
   "metadata": {},
   "outputs": [],
   "source": [
    "import numpy as np\n",
    "%matplotlib inline\n",
    "import matplotlib\n",
    "import matplotlib.pyplot as plt\n",
    "\n",
    "ref = np.loadtxt('ref/rho.dat')\n",
    "fig, ax = plt.subplots(1,1)\n",
    "ax.scatter(traj.time, rho, label='Simulated', alpha=0.6)\n",
    "ax.scatter(ref[:,0], ref[:,1], label='Reference', alpha=0.6)\n",
    "ax.legend()\n",
    "ax.set_ylabel(r\"Density (kg m$^{{-3}}$)\")\n",
    "ax.set_xlabel(\"Time (ps)\")"
   ]
  },
  {
   "cell_type": "markdown",
   "metadata": {},
   "source": [
    "## Notes\n",
    "Because of how short the simulation was run, there was actually no box-resizing performed, so the density is constant and the same as how we specified in the mBuild steps (we specified a density of 1, which is consistent with the non-box-altered simulation). You can  change the `nsteps` line in `npt.mdp` to run a longer simulation, i.e. 100,000 or 1,000,000 timesteps."
   ]
  },
  {
   "cell_type": "markdown",
   "metadata": {},
   "source": [
    "# Summary\n",
    "We have neatly conducted and analyzed a simulation from start to finish. \n",
    "We have built and parametrized our system using CHARMM-GUI and mBuild, simulated using GROMACS, and analyzed using MDTraj. \n",
    "Furthermore, there is clear room to work with other force field parameters, molecules, simulation engines, and analysis packages."
   ]
  }
 ],
 "metadata": {
  "kernelspec": {
   "display_name": "Python 3",
   "language": "python",
   "name": "python3"
  },
  "language_info": {
   "codemirror_mode": {
    "name": "ipython",
    "version": 3
   },
   "file_extension": ".py",
   "mimetype": "text/x-python",
   "name": "python",
   "nbconvert_exporter": "python",
   "pygments_lexer": "ipython3",
   "version": "3.7.6"
  }
 },
 "nbformat": 4,
 "nbformat_minor": 2
}
