{
 "cells": [
  {
   "cell_type": "markdown",
   "metadata": {},
   "source": [
    "## Graphene Pore\n",
    "### In this workflow, we will use the `GraphenePore` recipe in mBuild to initialize a system of water and graphene slit pores."
   ]
  },
  {
   "cell_type": "code",
   "execution_count": 1,
   "metadata": {},
   "outputs": [],
   "source": [
    "import matplotlib.pyplot as plt\n",
    "import mbuild as mb\n",
    "import numpy as np\n",
    "from calc_numberdensity import calc_number_density\n",
    "from foyer import Forcefield"
   ]
  },
  {
   "cell_type": "markdown",
   "metadata": {},
   "source": [
    "#### Load in a water molecule as a mBuild `Compound`"
   ]
  },
  {
   "cell_type": "code",
   "execution_count": 2,
   "metadata": {},
   "outputs": [
    {
     "name": "stderr",
     "output_type": "stream",
     "text": [
      "/Users/raymatsumoto/anaconda3/envs/mosdef36/lib/python3.6/site-packages/mdtraj/formats/mol2.py:203: FutureWarning: read_table is deprecated, use read_csv instead.\n",
      "  index_col=0, header=None, sep=\"\\s+\", engine='python')\n"
     ]
    }
   ],
   "source": [
    "water = mb.load(\"files/tip3p.mol2\")\n",
    "water.name = \"SOL\""
   ]
  },
  {
   "cell_type": "markdown",
   "metadata": {},
   "source": [
    "#### Load in a separate `Forcefield` object for the graphene and water"
   ]
  },
  {
   "cell_type": "code",
   "execution_count": 3,
   "metadata": {},
   "outputs": [],
   "source": [
    "c_ff = Forcefield(\"files/carbon.xml\")\n",
    "spce = Forcefield(\"files/spce.xml\")"
   ]
  },
  {
   "cell_type": "markdown",
   "metadata": {},
   "source": [
    "#### Importing Graphene Pores\n",
    "To run this notebook, you will have to clone the pore-builder repository from GitHub: https://github.com/rmatsum836/Pore-Builder"
   ]
  },
  {
   "cell_type": "code",
   "execution_count": 4,
   "metadata": {},
   "outputs": [],
   "source": [
    "try:\n",
    "    GraphenePoreSolvent = mb.recipes.GraphenePoreSolvent\n",
    "except (ImportError, AttributeError):\n",
    "    try:\n",
    "        import porebuilder\n",
    "\n",
    "        GraphenePoreSolvent = porebuilder.porebuilder.GraphenePoreSolvent\n",
    "    except ImportError:\n",
    "        pass"
   ]
  },
  {
   "cell_type": "markdown",
   "metadata": {},
   "source": [
    "#### Initialize system\n",
    "Here we will call `GraphenePoreSolvent` to initialize a system with two graphene slit pores and 600 water molecules"
   ]
  },
  {
   "cell_type": "code",
   "execution_count": 5,
   "metadata": {},
   "outputs": [
    {
     "name": "stderr",
     "output_type": "stream",
     "text": [
      "/Users/raymatsumoto/mbuild/mbuild/lattice.py:578: UserWarning: Periodicity of non-rectangular lattices are not valid with default boxes. Only rectangular lattices are valid at this time.\n",
      "  warn('Periodicity of non-rectangular lattices are not valid with '\n"
     ]
    }
   ],
   "source": [
    "system = GraphenePoreSolvent(\n",
    "    pore_depth=2,\n",
    "    side_dim=2,\n",
    "    n_sheets=3,\n",
    "    pore_width=1.2,\n",
    "    x_bulk=1.5,\n",
    "    solvent=water,\n",
    "    n_solvent=600,\n",
    ")\n",
    "box = mb.Box(system.periodicity)"
   ]
  },
  {
   "cell_type": "markdown",
   "metadata": {},
   "source": [
    "#### Separate molecules into different compounds\n",
    "Because we are going to apply multiple force fields, we need to separate the waters and graphene into separate mBuild compounds.  Calling `apply` will apply the forcefield to the compounds and convert them to parametrized ParmEd `Structures`"
   ]
  },
  {
   "cell_type": "code",
   "execution_count": 6,
   "metadata": {},
   "outputs": [
    {
     "name": "stderr",
     "output_type": "stream",
     "text": [
      "/Users/raymatsumoto/anaconda3/envs/mosdef36/lib/python3.6/site-packages/parmed/openmm/topsystem.py:238: OpenMMWarning: Adding what seems to be Urey-Bradley terms before Angles. This is unexpected, but the parameters will all be present in one form or another.\n",
      "  'all be present in one form or another.', OpenMMWarning)\n"
     ]
    }
   ],
   "source": [
    "water = mb.Compound()\n",
    "graphene = mb.Compound()\n",
    "for child in system.children:\n",
    "    if child.name == \"SOL\":\n",
    "        water.add(mb.clone(child))\n",
    "    else:\n",
    "        graphene.add(mb.clone(child))\n",
    "\n",
    "water_pmd = spce.apply(water, residues=\"SOL\")\n",
    "pore_pmd = c_ff.apply(graphene)"
   ]
  },
  {
   "cell_type": "markdown",
   "metadata": {},
   "source": [
    "#### Now we will combine the two paramterezed ParmEd structures and save them as `gro` and `top` files"
   ]
  },
  {
   "cell_type": "code",
   "execution_count": 7,
   "metadata": {},
   "outputs": [],
   "source": [
    "system = water_pmd + pore_pmd\n",
    "system.box[:3] = box.maxs * 10.0\n",
    "system.save(\"init.gro\", overwrite=True, combine=\"all\")\n",
    "system.save(\"init.top\", overwrite=True, combine=\"all\")"
   ]
  },
  {
   "cell_type": "markdown",
   "metadata": {},
   "source": [
    "#### Now we can run a short simulation of our system\n",
    "We will first call `gmx grompp` to compile the input file for the simulation, and then call `gmx mdrun` to actually run the simulation."
   ]
  },
  {
   "cell_type": "code",
   "execution_count": 8,
   "metadata": {},
   "outputs": [
    {
     "name": "stdout",
     "output_type": "stream",
     "text": [
      "                  :-) GROMACS - gmx grompp, VERSION 5.1.2 (-:\n",
      "\n",
      "                            GROMACS is written by:\n",
      "     Emile Apol      Rossen Apostolov  Herman J.C. Berendsen    Par Bjelkmar   \n",
      " Aldert van Buuren   Rudi van Drunen     Anton Feenstra   Sebastian Fritsch \n",
      "  Gerrit Groenhof   Christoph Junghans   Anca Hamuraru    Vincent Hindriksen\n",
      " Dimitrios Karkoulis    Peter Kasson        Jiri Kraus      Carsten Kutzner  \n",
      "    Per Larsson      Justin A. Lemkul   Magnus Lundborg   Pieter Meulenhoff \n",
      "   Erik Marklund      Teemu Murtola       Szilard Pall       Sander Pronk   \n",
      "   Roland Schulz     Alexey Shvetsov     Michael Shirts     Alfons Sijbers  \n",
      "   Peter Tieleman    Teemu Virolainen  Christian Wennberg    Maarten Wolf   \n",
      "                           and the project leaders:\n",
      "        Mark Abraham, Berk Hess, Erik Lindahl, and David van der Spoel\n",
      "\n",
      "Copyright (c) 1991-2000, University of Groningen, The Netherlands.\n",
      "Copyright (c) 2001-2015, The GROMACS development team at\n",
      "Uppsala University, Stockholm University and\n",
      "the Royal Institute of Technology, Sweden.\n",
      "check out http://www.gromacs.org for more information.\n",
      "\n",
      "GROMACS is free software; you can redistribute it and/or modify it\n",
      "under the terms of the GNU Lesser General Public License\n",
      "as published by the Free Software Foundation; either version 2.1\n",
      "of the License, or (at your option) any later version.\n",
      "\n",
      "GROMACS:      gmx grompp, VERSION 5.1.2\n",
      "Executable:   /Users/raymatsumoto/installs/gromacs-5.1.2/installs/bin/gmx\n",
      "Data prefix:  /Users/raymatsumoto/installs/gromacs-5.1.2/installs\n",
      "Command line:\n",
      "  gmx grompp -f files/nvt.mdp -c init.gro -p init.top -o nvt.tpr\n",
      "\n",
      "Ignoring obsolete mdp entry 'title'\n",
      "\n",
      "Back Off! I just backed up mdout.mdp to ./#mdout.mdp.2#\n",
      "\n",
      "NOTE 1 [file files/nvt.mdp]:\n",
      "  You have set rlist larger than the interaction cut-off, but you also have\n",
      "  verlet-buffer-tolerance > 0. Will set rlist using verlet-buffer-tolerance.\n",
      "\n",
      "Setting the LD random seed to 3517809893\n",
      "Generated 6 of the 6 non-bonded parameter combinations\n",
      "Generating 1-4 interactions: fudge = 1\n",
      "Generated 6 of the 6 1-4 parameter combinations\n",
      "Excluding 3 bonded neighbours molecule type 'system'\n",
      "Setting gen_seed to 2905713981\n",
      "Velocities were taken from a Maxwell distribution at 300 K\n",
      "Removing all charge groups because cutoff-scheme=Verlet\n",
      "Analysing residue names:\n",
      "There are:   600      Water residues\n",
      "There are:     1      Other residues\n",
      "Analysing residues not classified as Protein/DNA/RNA/Water and splitting into groups...\n",
      "Number of degrees of freedom in T-Coupling group RES is 0.00\n",
      "Number of degrees of freedom in T-Coupling group SOL is 5397.00\n",
      "Determining Verlet buffer for a tolerance of 0.005 kJ/mol/ps at 300 K\n",
      "Calculated rlist for 1x1 atom pair-list as 0.813 nm, buffer size 0.013 nm\n",
      "Set rlist, assuming 4x4 atom pair-list, to 0.800 nm, buffer size 0.000 nm\n",
      "Note that mdrun will redetermine rlist based on the actual pair-list setup\n",
      "Calculating fourier grid dimensions for X Y Z\n",
      "Using a fourier grid of 52x32x20, spacing 0.095 0.090 0.096\n",
      "Estimate for the relative computational load of the PME mesh part: 0.39\n",
      "This run will generate roughly 1 Mb of data\n",
      "\n",
      "There was 1 note\n",
      "\n",
      "Back Off! I just backed up nvt.tpr to ./#nvt.tpr.2#\n",
      "\n",
      "gcq#331: \"Act like Prometheus would\" (Gogol Bordello)\n",
      "\n"
     ]
    }
   ],
   "source": [
    "!gmx grompp -f files/nvt.mdp -c init.gro -p init.top -o nvt.tpr"
   ]
  },
  {
   "cell_type": "code",
   "execution_count": 9,
   "metadata": {},
   "outputs": [
    {
     "name": "stdout",
     "output_type": "stream",
     "text": [
      "                   :-) GROMACS - gmx mdrun, VERSION 5.1.2 (-:\n",
      "\n",
      "                            GROMACS is written by:\n",
      "     Emile Apol      Rossen Apostolov  Herman J.C. Berendsen    Par Bjelkmar   \n",
      " Aldert van Buuren   Rudi van Drunen     Anton Feenstra   Sebastian Fritsch \n",
      "  Gerrit Groenhof   Christoph Junghans   Anca Hamuraru    Vincent Hindriksen\n",
      " Dimitrios Karkoulis    Peter Kasson        Jiri Kraus      Carsten Kutzner  \n",
      "    Per Larsson      Justin A. Lemkul   Magnus Lundborg   Pieter Meulenhoff \n",
      "   Erik Marklund      Teemu Murtola       Szilard Pall       Sander Pronk   \n",
      "   Roland Schulz     Alexey Shvetsov     Michael Shirts     Alfons Sijbers  \n",
      "   Peter Tieleman    Teemu Virolainen  Christian Wennberg    Maarten Wolf   \n",
      "                           and the project leaders:\n",
      "        Mark Abraham, Berk Hess, Erik Lindahl, and David van der Spoel\n",
      "\n",
      "Copyright (c) 1991-2000, University of Groningen, The Netherlands.\n",
      "Copyright (c) 2001-2015, The GROMACS development team at\n",
      "Uppsala University, Stockholm University and\n",
      "the Royal Institute of Technology, Sweden.\n",
      "check out http://www.gromacs.org for more information.\n",
      "\n",
      "GROMACS is free software; you can redistribute it and/or modify it\n",
      "under the terms of the GNU Lesser General Public License\n",
      "as published by the Free Software Foundation; either version 2.1\n",
      "of the License, or (at your option) any later version.\n",
      "\n",
      "GROMACS:      gmx mdrun, VERSION 5.1.2\n",
      "Executable:   /Users/raymatsumoto/installs/gromacs-5.1.2/installs/bin/gmx\n",
      "Data prefix:  /Users/raymatsumoto/installs/gromacs-5.1.2/installs\n",
      "Command line:\n",
      "  gmx mdrun -v -deffnm nvt\n",
      "\n",
      "\n",
      "Back Off! I just backed up nvt.log to ./#nvt.log.2#\n",
      "\n",
      "Running on 1 node with total 4 logical cores\n",
      "Hardware detected:\n",
      "  CPU info:\n",
      "    Vendor: GenuineIntel\n",
      "    Brand:  Intel(R) Core(TM) i5-7360U CPU @ 2.30GHz\n",
      "    SIMD instructions most likely to fit this hardware: AVX2_256\n",
      "    SIMD instructions selected at GROMACS compile time: AVX2_256\n",
      "\n",
      "Reading file nvt.tpr, VERSION 5.1.2 (single precision)\n",
      "Changing nstlist from 10 to 25, rlist from 0.8 to 0.813\n",
      "\n",
      "Using 4 MPI threads\n",
      "\n",
      "Back Off! I just backed up nvt.trr to ./#nvt.trr.2#\n",
      "\n",
      "Back Off! I just backed up nvt.edr to ./#nvt.edr.2#\n",
      "starting mdrun 'Generic title'\n",
      "100000 steps,    100.0 ps.\n",
      "step 0\n",
      "NOTE: Turning on dynamic load balancing\n",
      "\n"
     ]
    },
    {
     "name": "stdout",
     "output_type": "stream",
     "text": [
      "step 40900, remaining wall clock time:    70 s          vol 0.81  imb F  1% l 0.92  imb F  4% vol 0.92  imb F  3% vol 0.91  imb F  6% vol 0.90  imb F  6% vol 0.89  imb F  1% vol 0.89  imb F  5% vol 0.88  imb F  3% vol 0.88  imb F  1% vol 0.85  imb F  2% vol 0.87  imb F  1% vol 0.87  imb F  1% vol 0.88  imb F  4% vol 0.85  imb F 11% vol 0.85  imb F  3% vol 0.81  imb F  1% vol 0.82  imb F  5% vol 0.80  imb F  2% vol 0.80  imb F  1% vol 0.81  imb F  1% vol 0.81  imb F  1% vol 0.81  imb F  2% vol 0.84  imb F  2% vol 0.84  imb F  2% vol 0.86  imb F  5% vol 0.84  imb F  5% vol 0.86  imb F  1% vol 0.85  imb F  2% vol 0.85  imb F  3% vol 0.83  imb F  2% vol 0.83  imb F  3% vol 0.85  imb F  2% vol 0.83  imb F  2% vol 0.84  imb F  2% vol 0.83  imb F  6% vol 0.81  imb F  3% vol 0.82  imb F  2% vol 0.81  imb F  2% vol 0.82  imb F  7% vol 0.83  imb F 26% vol 0.83  imb F  9% vol 0.85  imb F  7% vol 0.83  imb F 10% vol 0.84  imb F  5% vol 0.85  imb F  2% vol 0.88  imb F  5% vol 0.88  imb F  2% vol 0.87  imb F  3% vol 0.89  imb F  4% vol 0.89  imb F  2% vol 0.89  imb F  1% vol 0.89  imb F  4% vol 0.89  imb F  4% vol 0.88  imb F  5% vol 0.89  imb F  4% vol 0.88  imb F  6% vol 0.89  imb F  3% vol 0.91  imb F  4% vol 0.89  imb F  3% vol 0.88  imb F  4% vol 0.89  imb F  2% vol 0.91  imb F  3% vol 0.89  imb F  1% vol 0.89  imb F  3% vol 0.88  imb F  2% vol 0.87  imb F  5% vol 0.88  imb F  4% vol 0.88  imb F  2% vol 0.87  imb F  3% vol 0.87  imb F  2% vol 0.86  imb F  4% vol 0.88  imb F  3% vol 0.87  imb F  1% vol 0.89  imb F  4% vol 0.89  imb F  2% vol 0.89  imb F  0% vol 0.89  imb F  3% vol 0.92  imb F  6% vol 0.89  imb F  2% vol 0.88  imb F  3% vol 0.89  imb F  1% vol 0.88  imb F  2% vol 0.87  imb F  1% vol 0.88  imb F  5% vol 0.89  imb F  2% vol 0.87  imb F  3% vol 0.91  imb F  6% vol 0.91  imb F  1% vol 0.88  imb F  2% vol 0.90  imb F  1% vol 0.89  imb F  5% vol 0.90  imb F  2% vol 0.89  imb F  3% vol 0.90  imb F  3% vol 0.89  imb F  3% vol 0.91  imb F  6% vol 0.88  imb F  2% vol 0.88  imb F  2% vol 0.89  imb F  5% vol 0.89  imb F  2% vol 0.89  imb F  3% vol 0.90  imb F  2% vol 0.89  imb F  2% vol 0.88  imb F  1% vol 0.87  imb F  2% vol 0.89  imb F  2% vol 0.88  imb F  3% vol 0.89  imb F  2% vol 0.91  imb F  2% vol 0.90  imb F  1% vol 0.88  imb F  8% vol 0.89  imb F  3% vol 0.89  imb F  5% vol 0.87  imb F  2% vol 0.89  imb F  1% vol 0.89  imb F  1% vol 0.89  imb F  5% vol 0.86  imb F  3% vol 0.92  imb F  5% vol 0.90  imb F  1% vol 0.91  imb F  2% vol 0.89  imb F  2% vol 0.88  imb F  1% vol 0.88  imb F  2% vol 0.89  imb F  2% vol 0.88  imb F  1% vol 0.89  imb F  1% vol 0.91  imb F  2% vol 0.88  imb F  2% vol 0.88  imb F  1% vol 0.88  imb F  2% vol 0.90  imb F  3% vol 0.89  imb F  1% vol 0.90  imb F  3% vol 0.88  imb F  2% vol 0.86  imb F  3% vol 0.87  imb F  4% vol 0.86  imb F  1% vol 0.87  imb F  1% vol 0.87  imb F  4% vol 0.84  imb F  3% vol 0.87  imb F  1% vol 0.87  imb F  2% vol 0.89  imb F  1% vol 0.90  imb F  2% vol 0.90  imb F  1% vol 0.84  imb F  3% vol 0.88  imb F  3% vol 0.90  imb F  2% vol 0.89  imb F  2% vol 0.89  imb F  2% vol 0.87  imb F  9% vol 0.89  imb F  3% vol 0.90  imb F  2% vol 0.91  imb F  3% vol 0.90  imb F  2% vol 0.90  imb F  3% vol 0.90  imb F  3% vol 0.90  imb F  3% vol 0.91  imb F  1% vol 0.94  imb F  8% vol 0.90  imb F  2% vol 0.91  imb F  4% vol 0.91  imb F  3% vol 0.91  imb F  2% vol 0.92  imb F  3% vol 0.91  imb F  2% vol 0.88  imb F  3% vol 0.89  imb F 14% vol 0.88  imb F  2% vol 0.90  imb F  2% vol 0.90  imb F  2% vol 0.89  imb F  3% vol 0.90  imb F  6% vol 0.88  imb F  0% vol 0.90  imb F  3% vol 0.91  imb F  1% vol 0.90  imb F  2% vol 0.91  imb F  2% vol 0.90  imb F  3% vol 0.91  imb F  2% vol 0.90  imb F  2% vol 0.90  imb F  1% vol 0.90  imb F  6% vol 0.90  imb F  7% vol 0.90  imb F  1% vol 0.87  imb F  2% vol 0.87  imb F  4% vol 0.88  imb F  2% vol 0.89  imb F  1% vol 0.87  imb F  5% vol 0.83  imb F  1% vol 0.83  imb F  4% vol 0.85  imb F  2% vol 0.85  imb F  3% vol 0.88  imb F  1% vol 0.88  imb F  2% vol 0.88  imb F  2% vol 0.90  imb F  3% vol 0.88  imb F  1% vol 0.87  imb F  1% vol 0.87  imb F  3% vol 0.86  imb F  2% vol 0.84  imb F  1% vol 0.84  imb F  2% vol 0.85  imb F  2% vol 0.84  imb F  4% vol 0.86  imb F  5% vol 0.86  imb F  3% vol 0.87  imb F  1% vol 0.86  imb F  6% vol 0.87  imb F  4% vol 0.83  imb F  2% vol 0.83  imb F  2% vol 0.83  imb F  3% vol 0.84  imb F  5% vol 0.82  imb F  3% vol 0.82  imb F  2% vol 0.81  imb F  2% vol 0.81  imb F  1% vol 0.82  imb F  2% vol 0.83  imb F  1% vol 0.82  imb F  3% vol 0.82  imb F  2% vol 0.84  imb F  2% vol 0.82  imb F  1% vol 0.82  imb F  2% vol 0.80  imb F  1% vol 0.80  imb F  2% vol 0.80  imb F  1% vol 0.81  imb F  1% vol 0.84  imb F  1% vol 0.85  imb F  7% vol 0.83  imb F  2% vol 0.82  imb F  4% vol 0.85  imb F  3% vol 0.83  imb F  4% vol 0.84  imb F  2% vol 0.83  imb F  3% vol 0.85  imb F  3% vol 0.84  imb F  2% vol 0.84  imb F  2% vol 0.85  imb F  3% vol 0.84  imb F  1% vol 0.85  imb F  3% vol 0.84  imb F  0% vol 0.84  imb F  2% vol 0.86  imb F  2% vol 0.84  imb F  1% vol 0.81  imb F  3% vol 0.84  imb F  1% vol 0.83  imb F  1% vol 0.84  imb F  4% vol 0.81  imb F  2% vol 0.83  imb F  3% vol 0.82  imb F  1% vol 0.82  imb F  2% vol 0.84  imb F  4% vol 0.82  imb F  2% vol 0.83  imb F  1% vol 0.83  imb F  1% vol 0.83  imb F  1% vol 0.82  imb F  1% vol 0.83  imb F  1% vol 0.83  imb F  2% vol 0.85  imb F  3% vol 0.84  imb F  3% vol 0.86  imb F  1% vol 0.88  imb F  2% vol 0.86  imb F  2% vol 0.86  imb F  1% vol 0.85  imb F  3% vol 0.86  imb F  2% vol 0.84  imb F  1% vol 0.83  imb F  2% vol 0.85  imb F  2% vol 0.83  imb F  2% vol 0.83  imb F  5% vol 0.84  imb F  3% vol 0.85  imb F  3% vol 0.86  imb F  2% vol 0.87  imb F  2% vol 0.86  imb F  2% vol 0.86  imb F  5% vol 0.84  imb F  2% vol 0.85  imb F  3% vol 0.84  imb F  3% vol 0.85  imb F  2% vol 0.84  imb F  2% vol 0.85  imb F  1% vol 0.86  imb F  3% vol 0.86  imb F  2% vol 0.83  imb F  1% vol 0.83  imb F  3% vol 0.81  imb F  1% vol 0.82  imb F  0% vol 0.84  imb F  4% vol 0.86  imb F  3% vol 0.86  imb F  2% vol 0.88  imb F  2% vol 0.87  imb F  1% vol 0.87  imb F  3% vol 0.84  imb F  0% vol 0.86  imb F  2% vol 0.85  imb F  2% vol 0.85  imb F  2% vol 0.85  imb F  2% vol 0.84  imb F  3% vol 0.85  imb F  2% vol 0.85  imb F  2% vol 0.85  imb F  1% vol 0.85  imb F  1% vol 0.84  imb F  1% vol 0.86  imb F  2% vol 0.86  imb F  3% vol 0.90  imb F  8% vol 0.90  imb F  5% vol 0.88  imb F  0% vol 0.87  imb F  2% vol 0.85  imb F  2% vol 0.82  imb F  4% vol 0.84  imb F  2% vol 0.87  imb F  2% vol 0.84  imb F  1% vol 0.84  imb F  3% vol 0.82  imb F  1% vol 0.79  imb F  3% vol 0.82  imb F  2% vol 0.82  imb F  1% vol 0.84  imb F  2% vol 0.83  imb F  2% vol 0.84  imb F  4% vol 0.83  imb F  2% vol 0.83  imb F  3% vol 0.83  imb F  2% vol 0.86  imb F  2% vol 0.85  imb F  1% vol 0.85  imb F  3% vol 0.87  imb F  3% vol 0.90  imb F  3% vol 0.89  imb F  2% vol 0.86  imb F  2% vol 0.85  imb F  7% vol 0.89  imb F  8% vol 0.88  imb F  3% vol 0.87  imb F  3% vol 0.89  imb F  1% vol 0.88  imb F  3% vol 0.86  imb F  1% vol 0.85  imb F  1% vol 0.82  imb F  3% vol 0.83  imb F  1% vol 0.83  imb F  1% vol 0.81  imb F  4% vol 0.83  imb F  2% vol 0.85  imb F  2% vol 0.85  imb F  2% vol 0.87  imb F  3% vol 0.86  imb F  1% vol 0.84  imb F  1% vol 0.84  imb F  2% vol 0.83  imb F  3% vol 0.85  imb F  7% vol 0.87  imb F  6% vol 0.87  imb F  3% vol 0.85  imb F  3% vol 0.85  imb F  3% vol 0.85  imb F  2% vol 0.83  imb F  1% vol 0.86  imb F  3% vol 0.85  imb F  2% vol 0.84  imb F  2% vol 0.81  imb F  2% vol 0.83  imb F  2% vol 0.85  imb F  1% vol 0.84  imb F  1% vol 0.85  imb F  2% vol 0.86  imb F  1% vol 0.85  imb F  4% vol 0.84  imb F  1% vol 0.86  imb F  1% vol 0.84  imb F  1% vol 0.84  imb F  3% vol 0.84  imb F  1% vol 0.84  imb F  3% vol 0.84  imb F  2% vol 0.85  imb F  3% vol 0.86  imb F  2% vol 0.85  imb F  4% vol 0.83  imb F  3% vol 0.83  imb F  2% vol 0.83  imb F  0% vol 0.85  imb F  2% vol 0.85  imb F  2% vol 0.88  imb F  1% vol 0.88  imb F  3% vol 0.85  imb F  2% vol 0.85  imb F  2% vol 0.84  imb F  3% vol 0.85  imb F  4% vol 0.86  imb F  2% vol 0.86  imb F  3% vol 0.87  imb F  1% vol 0.85  imb F  1% vol 0.86  imb F  1% vol 0.85  imb F  1% vol 0.84  imb F  1% "
     ]
    },
    {
     "name": "stdout",
     "output_type": "stream",
     "text": [
      "step 81700, remaining wall clock time:    21 s          vol 0.86  imb F  3% vol 0.89  imb F  3% vol 0.87  imb F  4% vol 0.85  imb F  1% vol 0.85  imb F  2% vol 0.83  imb F  2% vol 0.85  imb F  2% vol 0.86  imb F  3% vol 0.84  imb F  1% vol 0.84  imb F  1% vol 0.83  imb F  1% vol 0.85  imb F  2% vol 0.86  imb F  2% vol 0.85  imb F  1% vol 0.84  imb F  1% vol 0.82  imb F  1% vol 0.81  imb F  2% vol 0.83  imb F  1% vol 0.83  imb F  2% vol 0.84  imb F  2% vol 0.84  imb F  2% vol 0.85  imb F  2% vol 0.84  imb F  2% vol 0.84  imb F  1% vol 0.85  imb F  1% vol 0.85  imb F  1% vol 0.86  imb F  0% vol 0.89  imb F  1% vol 0.89  imb F  4% vol 0.86  imb F  2% vol 0.84  imb F  0% vol 0.84  imb F  1% vol 0.83  imb F  1% vol 0.83  imb F  1% vol 0.82  imb F  2% vol 0.82  imb F  3% vol 0.81  imb F  2% vol 0.82  imb F  1% vol 0.80  imb F  2% vol 0.82  imb F  2% vol 0.83  imb F  2% vol 0.85  imb F  2% vol 0.85  imb F  1% vol 0.88  imb F  4% vol 0.89  imb F  2% vol 0.88  imb F  1% vol 0.87  imb F  2% vol 0.88  imb F  3% vol 0.85  imb F  2% vol 0.83  imb F  1% vol 0.81  imb F  1% vol 0.81  imb F  2% vol 0.82  imb F  4% vol 0.83  imb F  3% vol 0.81  imb F  3% vol 0.81  imb F  2% vol 0.80  imb F  1% vol 0.80  imb F  3% vol 0.83  imb F  6% vol 0.84  imb F  3% vol 0.84  imb F  3% vol 0.85  imb F  2% vol 0.84  imb F  5% vol 0.85  imb F  6% vol 0.85  imb F  1% vol 0.85  imb F  3% vol 0.85  imb F  1% vol 0.85  imb F  3% vol 0.83  imb F  1% vol 0.82  imb F  1% vol 0.82  imb F  2% vol 0.82  imb F  2% vol 0.81  imb F  2% vol 0.83  imb F  1% vol 0.84  imb F  1% vol 0.83  imb F  5% vol 0.84  imb F  3% vol 0.85  imb F  3% vol 0.87  imb F  5% vol 0.87  imb F  3% vol 0.86  imb F  2% vol 0.83  imb F  1% vol 0.83  imb F  2% vol 0.85  imb F  5% vol 0.86  imb F  4% vol 0.86  imb F  5% vol 0.85  imb F  2% vol 0.85  imb F  2% vol 0.85  imb F  1% vol 0.84  imb F  4% vol 0.86  imb F  4% vol 0.83  imb F  3% vol 0.82  imb F  1% vol 0.83  imb F  3% vol 0.82  imb F  1% vol 0.84  imb F  2% vol 0.81  imb F  0% vol 0.83  imb F  3% vol 0.81  imb F  6% vol 0.83  imb F  1% vol 0.82  imb F  2% vol 0.83  imb F  1% vol 0.83  imb F  4% vol 0.80  imb F  4% vol 0.83  imb F  5% vol 0.83  imb F  2% vol 0.83  imb F  2% vol 0.83  imb F  2% vol 0.85  imb F  4% vol 0.85  imb F  4% vol 0.83  imb F  3% vol 0.83  imb F  1% vol 0.86  imb F  1% vol 0.85  imb F  6% vol 0.85  imb F  7% vol 0.83  imb F  3% vol 0.80  imb F  3% vol 0.82  imb F  2% vol 0.83  imb F  4% vol 0.82  imb F  2% vol 0.81  imb F  3% vol 0.82  imb F  2% vol 0.83  imb F  2% vol 0.82  imb F  3% vol 0.83  imb F  3% vol 0.82  imb F  2% vol 0.84  imb F  3% vol 0.84  imb F  3% vol 0.82  imb F  3% vol 0.85  imb F  4% vol 0.84  imb F  6% vol 0.83  imb F  1% vol 0.82  imb F  1% vol 0.82  imb F  2% vol 0.81  imb F  3% vol 0.79  imb F  4% vol 0.81  imb F  3% vol 0.84  imb F  8% vol 0.82  imb F  5% vol 0.85  imb F  4% vol 0.85  imb F  2% vol 0.82  imb F  2% vol 0.81  imb F  1% vol 0.83  imb F  1% vol 0.82  imb F  3% vol 0.80  imb F  4% vol 0.81  imb F  1% vol 0.83  imb F  2% vol 0.79  imb F  2% vol 0.81  imb F  1% vol 0.79  imb F  5% vol 0.80  imb F  1% vol 0.80  imb F  2% vol 0.81  imb F  1% vol 0.82  imb F  1% vol 0.84  imb F  4% vol 0.86  imb F  2% vol 0.83  imb F  4% vol 0.82  imb F  2% vol 0.83  imb F  2% vol 0.84  imb F 10% vol 0.82  imb F  6% vol 0.81  imb F  2% vol 0.82  imb F  2% vol 0.83  imb F  5% vol 0.80  imb F  2% vol 0.79  imb F  2% vol 0.79  imb F  8% vol 0.78  imb F  3% vol 0.82  imb F  1% vol 0.82  imb F  2% vol 0.83  imb F  0% vol 0.83  imb F  2% vol 0.83  imb F  2% vol 0.83  imb F  1% vol 0.82  imb F  3% vol 0.82  imb F  1% vol 0.82  imb F  1% vol 0.83  imb F  2% vol 0.81  imb F  1% vol 0.79  imb F  3% vol 0.78  imb F  2% vol 0.78  imb F  2% vol 0.77  imb F  2% vol 0.77  imb F  4% vol 0.78  imb F  2% vol 0.78  imb F  4% vol 0.78  imb F  3% vol 0.78  imb F  1% vol 0.79  imb F  2% vol 0.81  imb F  1% vol 0.83  imb F  2% vol 0.83  imb F  1% vol 0.79  imb F  4% vol 0.80  imb F  3% vol 0.82  imb F  2% vol 0.81  imb F  4% vol 0.79  imb F  2% vol 0.78  imb F  6% vol 0.80  imb F  1% vol 0.79  imb F  1% vol 0.79  imb F  2% vol 0.80  imb F  3% vol 0.80  imb F  1% vol 0.78  imb F  5% vol 0.81  imb F  2% vol 0.82  imb F  2% vol 0.82  imb F  2% vol 0.80  imb F  1% vol 0.80  imb F  2% vol 0.82  imb F  1% vol 0.82  imb F  3% vol 0.82  imb F  0% vol 0.82  imb F  1% vol 0.84  imb F  2% vol 0.85  imb F  3% vol 0.84  imb F  1% vol 0.84  imb F  2% vol 0.84  imb F  2% vol 0.84  imb F  2% vol 0.82  imb F  1% vol 0.82  imb F  2% vol 0.82  imb F  2% vol 0.79  imb F  2% vol 0.80  imb F  2% vol 0.80  imb F  1% vol 0.81  imb F  1% vol 0.82  imb F  1% vol 0.80  imb F  3% vol 0.77  imb F  2% vol 0.78  imb F  1% vol 0.78  imb F  3% vol 0.79  imb F  2% vol 0.80  imb F  2% vol 0.79  imb F  2% vol 0.81  imb F  4% vol 0.82  imb F  3% vol 0.80  imb F  1% vol 0.80  imb F  1% vol 0.81  imb F  5% vol 0.87  imb F  6% vol 0.90  imb F  3% vol 0.88  imb F  3% vol 0.87  imb F  2% vol 0.86  imb F  2% vol 0.90  imb F  1% vol 0.88  imb F  3% vol 0.91  imb F  5% vol 0.90  imb F  2% vol 0.90  imb F  0% vol 0.87  imb F  1% vol 0.89  imb F  6% vol 0.86  imb F  2% vol 0.88  imb F  5% vol 0.87  imb F  3% vol 0.87  imb F  3% vol 0.88  imb F  1% vol 0.90  imb F  4% vol 0.90  imb F  2% vol 0.91  imb F  4% vol 0.86  imb F  6% vol 0.89  imb F  1% vol 0.89  imb F  4% vol 0.90  imb F  6% vol 0.89  imb F  3% vol 0.89  imb F  1% vol 0.89  imb F  3% vol 0.89  imb F  3% vol 0.87  imb F  4% vol 0.87  imb F 10% vol 0.88  imb F  1% vol 0.88  imb F  4% vol 0.89  imb F  4% vol 0.89  imb F  0% vol 0.88  imb F  1% vol 0.89  imb F  3% vol 0.89  imb F  1% vol 0.90  imb F  2% vol 0.89  imb F  4% vol 0.89  imb F  2% vol 0.90  imb F  4% vol 0.91  imb F  2% vol 0.89  imb F  1% vol 0.90  imb F  3% vol 0.88  imb F  4% vol 0.89  imb F  2% vol 0.89  imb F  0% vol 0.89  imb F  3% vol 0.90  imb F  3% vol 0.91  imb F  1% vol 0.91  imb F  2% vol 0.89  imb F  6% vol 0.89  imb F  2% vol 0.88  imb F  4% vol 0.88  imb F  5% vol 0.90  imb F  2% vol 0.89  imb F  8% vol 0.89  imb F  3% vol 0.89  imb F  5% vol 0.89  imb F  5% vol 0.90  imb F  3% vol 0.87  imb F  5% vol 0.85  imb F  1% vol 0.83  imb F  2% vol 0.84  imb F  3% vol 0.81  imb F  1% vol 0.82  imb F  1% vol 0.83  imb F  2% vol 0.81  imb F  2% vol 0.80  imb F  2% vol 0.79  imb F  3% vol 0.82  imb F  4% vol 0.81  imb F  4% vol 0.81  imb F  1% vol 0.81  imb F  2% vol 0.81  imb F  3% vol 0.82  imb F  2% vol 0.80  imb F  3% vol 0.82  imb F  0% vol 0.81  imb F  2% vol 0.80  imb F  4% vol 0.80  imb F  2% vol 0.81  imb F  2% vol 0.82  imb F  1% vol 0.83  imb F  2% vol 0.82  imb F  3% vol 0.83  imb F  2% vol 0.84  imb F  1% vol 0.82  imb F  1% vol 0.83  imb F  1% vol 0.84  imb F  1% vol 0.84  imb F  3% vol 0.84  imb F  4% vol 0.87  imb F  4% vol 0.85  imb F  3% vol 0.83  imb F  5% vol 0.84  imb F  3% vol 0.83  imb F  2% vol 0.83  imb F  2% vol 0.83  imb F  1% vol 0.83  imb F  3% vol 0.84  imb F  1% vol 0.84  imb F  3% vol 0.88  imb F  5% vol 0.85  imb F  3% vol 0.86  imb F  4% vol 0.85  imb F  5% vol 0.83  imb F  7% vol 0.81  imb F  4% vol 0.84  imb F  4% vol 0.88  imb F  2% vol 0.88  imb F  4% vol 0.86  imb F  2% vol 0.84  imb F  6% vol 0.85  imb F  3% vol 0.83  imb F  3% vol 0.85  imb F  2% vol 0.86  imb F  2% vol 0.86  imb F  3% vol 0.87  imb F  4% vol 0.89  imb F  9% vol 0.89  imb F  3% vol 0.88  imb F  1% vol 0.90  imb F  3% vol 0.88  imb F  1% vol 0.88  imb F  2% vol 0.85  imb F  1% vol 0.84  imb F  1% vol 0.87  imb F  6% vol 0.83  imb F 10% vol 0.82  imb F  3% vol 0.83  imb F  1% vol 0.87  imb F 12% vol 0.86  imb F  2% vol 0.88  imb F  4% vol 0.84  imb F  3% vol 0.83  imb F  3% vol 0.84  imb F  1% vol 0.84  imb F  3% vol 0.85  imb F  2% vol 0.85  imb F  2% vol 0.85  imb F  1% vol 0.82  imb F  1% vol 0.85  imb F  1% vol 0.86  imb F  2% vol 0.85  imb F  1% vol 0.85  imb F  3% vol 0.87  imb F  2% vol 0.89  imb F  4% vol 0.88  imb F  5% vol 0.87  imb F  4% vol 0.90  imb F  5% vol 0.93  imb F  3% vol 0.91  imb F  5% vol 0.90  imb F  5% vol 0.89  imb F  4% vol 0.89  imb F  3% vol 0.89  imb F  4% vol 0.89  imb F  1% vol 0.84  imb F  1% vol 0.86  imb F  6% vol 0.90  imb F  5% vol 0.85  imb F  3% vol 0.85  imb F  1% vol 0.84  imb F  2% vol 0.83  imb F  1% vol 0.82  imb F  6% "
     ]
    },
    {
     "name": "stdout",
     "output_type": "stream",
     "text": [
      "step 99900, remaining wall clock time:     0 s          vol 0.82  imb F  3% vol 0.82  imb F  2% vol 0.82  imb F  2% vol 0.82  imb F  3% vol 0.82  imb F  1% vol 0.84  imb F  5% vol 0.84  imb F  4% vol 0.86  imb F  3% vol 0.88  imb F  6% vol 0.91  imb F  3% vol 0.87  imb F  3% vol 0.87  imb F  1% vol 0.85  imb F  1% vol 0.85  imb F  1% vol 0.84  imb F  3% vol 0.84  imb F  3% vol 0.87  imb F  3% vol 0.86  imb F  1% vol 0.86  imb F  3% vol 0.88  imb F  2% vol 0.88  imb F  2% vol 0.90  imb F  4% vol 0.89  imb F  2% vol 0.88  imb F  1% vol 0.88  imb F  1% vol 0.87  imb F  1% vol 0.86  imb F  2% vol 0.85  imb F  1% vol 0.86  imb F  2% vol 0.86  imb F  2% vol 0.85  imb F  2% vol 0.86  imb F  2% vol 0.85  imb F  2% vol 0.85  imb F  2% vol 0.86  imb F  2% vol 0.86  imb F  2% vol 0.88  imb F  5% vol 0.91  imb F  1% vol 0.90  imb F  1% vol 0.90  imb F  2% vol 0.90  imb F  2% vol 0.90  imb F  3% vol 0.85  imb F  2% vol 0.85  imb F  1% vol 0.84  imb F  1% vol 0.86  imb F  2% vol 0.87  imb F  3% vol 0.91  imb F  1% vol 0.91  imb F  2% vol 0.89  imb F  0% vol 0.91  imb F  2% vol 0.89  imb F  1% vol 0.90  imb F  4% vol 0.89  imb F  2% vol 0.91  imb F  1% vol 0.90  imb F  2% vol 0.90  imb F  2% vol 0.90  imb F  1% vol 0.88  imb F  3% vol 0.85  imb F  2% vol 0.85  imb F  1% vol 0.84  imb F  2% vol 0.86  imb F  1% vol 0.84  imb F  2% vol 0.90  imb F  1% vol 0.89  imb F  1% vol 0.87  imb F  2% vol 0.85  imb F  2% vol 0.86  imb F  3% vol 0.88  imb F  2% vol 0.90  imb F  3% vol 0.88  imb F  3% vol 0.88  imb F  2% vol 0.85  imb F  3% vol 0.86  imb F  2% vol 0.87  imb F  1% vol 0.88  imb F  3% vol 0.89  imb F  1% vol 0.89  imb F  2% vol 0.85  imb F  2% vol 0.85  imb F  4% vol 0.84  imb F  3% vol 0.85  imb F  2% vol 0.85  imb F  1% vol 0.84  imb F  1% vol 0.85  imb F  1% vol 0.86  imb F  1% vol 0.90  imb F  2% vol 0.89  imb F  2% vol 0.89  imb F  2% vol 0.87  imb F  2% vol 0.86  imb F  2% vol 0.85  imb F  1% vol 0.83  imb F  2% vol 0.84  imb F  1% vol 0.84  imb F  2% vol 0.85  imb F  2% vol 0.85  imb F  3% vol 0.84  imb F  1% vol 0.83  imb F  2% vol 0.84  imb F  2% vol 0.84  imb F  2% vol 0.84  imb F  2% vol 0.84  imb F  1% vol 0.82  imb F  5% vol 0.83  imb F  1% vol 0.84  imb F  3% vol 0.84  imb F  1% vol 0.83  imb F  1% vol 0.81  imb F  1% vol 0.81  imb F  1% vol 0.82  imb F  3% vol 0.81  imb F  1% vol 0.81  imb F  1% vol 0.82  imb F  1% vol 0.83  imb F  1% vol 0.82  imb F  1% vol 0.81  imb F  2% vol 0.83  imb F  7% vol 0.82  imb F  2% vol 0.83  imb F  3% vol 0.81  imb F  1% vol 0.82  imb F  4% vol 0.81  imb F  3% vol 0.82  imb F  2% vol 0.82  imb F  2% vol 0.81  imb F  5% vol 0.84  imb F  2% vol 0.82  imb F  3% vol 0.81  imb F  1% vol 0.82  imb F  0% vol 0.81  imb F  1% vol 0.81  imb F  1% vol 0.80  imb F  1% vol 0.79  imb F  1% vol 0.80  imb F  1% vol 0.79  imb F  3% vol 0.79  imb F  3% vol 0.79  imb F  2% vol 0.80  imb F  2% vol 0.80  imb F  1% vol 0.80  imb F  2% vol 0.82  imb F  2% vol 0.84  imb F  1% vol 0.83  imb F  1% vol 0.82  imb F  2% vol 0.81  imb F  1% vol 0.81  imb F  3% vol 0.79  imb F  1% vol 0.76  imb F  1% vol 0.77  imb F  1% vol 0.78  imb F  1% vol 0.77  imb F  1% vol 0.79  imb F  1% vol 0.80  imb F  2% vol 0.80  imb F  1% vol 0.81  imb F  1% vol 0.79  imb F  2% vol 0.79  imb F  1% vol 0.80  imb F  3% vol 0.79  imb F  3% vol 0.79  imb F  1% vol 0.79  imb F  3% vol 0.80  imb F  3% vol 0.79  imb F  2% vol 0.79  imb F  2% vol 0.80  imb F  1% vol 0.82  imb F  1% vol 0.81  imb F  1% vol 0.82  imb F  2% vol 0.83  imb F  1% vol 0.82  imb F  0% vol 0.82  imb F  1% vol 0.81  imb F  1% vol 0.80  imb F  0% vol 0.81  imb F  2% vol 0.80  imb F  1% vol 0.79  imb F  1% vol 0.78  imb F  1% vol 0.80  imb F  2% vol 0.80  imb F  2% vol 0.83  imb F  4% \n",
      "Writing final coordinates.\n",
      "\n",
      "Back Off! I just backed up nvt.gro to ./#nvt.gro.2#\n",
      "step 100000, remaining wall clock time:     0 s          \n",
      " Average load imbalance: 2.8 %\n",
      " Part of the total run time spent waiting due to load imbalance: 1.1 %\n",
      " Steps where the load balancing was limited by -rdd, -rcon and/or -dds: X 0 %\n",
      "\n",
      "\n",
      "               Core t (s)   Wall t (s)        (%)\n",
      "       Time:      459.953      114.988      400.0\n",
      "                 (ns/day)    (hour/ns)\n",
      "Performance:       75.139        0.319\n",
      "\n",
      "gcq#246: \"Everything Must Go\" (Red Hot Chili Peppers)\n",
      "\n"
     ]
    }
   ],
   "source": [
    "!gmx mdrun -v -deffnm nvt"
   ]
  },
  {
   "cell_type": "code",
   "execution_count": 10,
   "metadata": {},
   "outputs": [],
   "source": [
    "# Load in reference data to compare to\n",
    "reference_num_den = np.loadtxt(\"ref_data/numden.txt\")"
   ]
  },
  {
   "cell_type": "code",
   "execution_count": 11,
   "metadata": {},
   "outputs": [],
   "source": [
    "gro_file = \"nvt.gro\"\n",
    "trj_file = \"nvt.trr\"\n",
    "top_file = \"init.top\""
   ]
  },
  {
   "cell_type": "code",
   "execution_count": 12,
   "metadata": {},
   "outputs": [],
   "source": [
    "# Set dimensions of system for calculation of number density profiles\n",
    "box_range = [0.838, 2.038]\n",
    "mins = [1.684, 0, 0]\n",
    "maxs = [3.403, 0, 0]\n",
    "area = 3.78"
   ]
  },
  {
   "cell_type": "markdown",
   "metadata": {},
   "source": [
    "#### Plotting Number density\n",
    "Using `calc_number_density` we can calculate and plot the number density profile of water in the slit pores.  From the results, we observe that the waters mainly exist at the walls of the slit pore at ~1.2 nm and ~1.8 nm respectively."
   ]
  },
  {
   "cell_type": "code",
   "execution_count": 13,
   "metadata": {},
   "outputs": [
    {
     "data": {
      "image/png": "[encoded data removed]",
      "text/plain": [
       "<Figure size 432x288 with 1 Axes>"
      ]
     },
     "metadata": {
      "needs_background": "light"
     },
     "output_type": "display_data"
    }
   ],
   "source": [
    "plt.figure()\n",
    "plt.xlim(box_range[0], box_range[1])\n",
    "rho, bins = calc_number_density(\n",
    "    gro_file,\n",
    "    trj_file,\n",
    "    top_file,\n",
    "    area,\n",
    "    dim=1,\n",
    "    box_range=box_range,\n",
    "    n_bins=100,\n",
    "    frame_range=range(0, 11),\n",
    "    maxs=maxs,\n",
    "    mins=mins,\n",
    ")\n",
    "plt.plot(bins, rho[0], label=f\"Water: Frames {0}-{11}\")\n",
    "plt.plot(\n",
    "    reference_num_den[:, 0],\n",
    "    reference_num_den[:, 1],\n",
    "    label=f\"Reference Water: Frames {0}-{11}\",\n",
    ")\n",
    "plt.legend()\n",
    "plt.ylabel(\"Water Number density (nm^-3)\")\n",
    "plt.xlabel(\"Position in slit pore (nm)\")\n",
    "plt.savefig(\"number-density.pdf\")"
   ]
  }
 ],
 "metadata": {
  "kernelspec": {
   "display_name": "Python 3",
   "language": "python",
   "name": "python3"
  },
  "language_info": {
   "codemirror_mode": {
    "name": "ipython",
    "version": 3
   },
   "file_extension": ".py",
   "mimetype": "text/x-python",
   "name": "python",
   "nbconvert_exporter": "python",
   "pygments_lexer": "ipython3",
   "version": "3.6.8"
  }
 },
 "nbformat": 4,
 "nbformat_minor": 2
}
