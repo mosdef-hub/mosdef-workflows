{
 "cells": [
  {
   "cell_type": "code",
   "execution_count": 1,
   "metadata": {},
   "outputs": [],
   "source": [
    "import subprocess\n",
    "\n",
    "import foyer\n",
    "import mbuild as mb\n",
    "import parmed\n",
    "from mbuild.examples import Ethane, Propane"
   ]
  },
  {
   "cell_type": "markdown",
   "metadata": {},
   "source": [
    "# mBuild + Foyer\n",
    "Building our mBuild compound and applying our Foyer force field"
   ]
  },
  {
   "cell_type": "code",
   "execution_count": 2,
   "metadata": {},
   "outputs": [
    {
     "name": "stderr",
     "output_type": "stream",
     "text": [
      "/Users/ayang41/Programs/foyer/foyer/validator.py:132: ValidationWarning: You have empty smart definition(s)\n",
      "  warn(\"You have empty smart definition(s)\", ValidationWarning)\n",
      "/Users/ayang41/Programs/foyer/foyer/forcefield.py:248: UserWarning: Parameters have not been assigned to all impropers. Total system impropers: 24, Parameterized impropers: 0. Note that if your system contains torsions of Ryckaert-Bellemans functional form, all of these torsions are processed as propers\n",
      "  warnings.warn(msg)\n"
     ]
    }
   ],
   "source": [
    "cmpd = Ethane()\n",
    "cmpd.name = \"Eth\"\n",
    "\n",
    "\n",
    "box = mb.fill_box(cmpd, n_compounds=3, box=[10, 10, 10])\n",
    "\n",
    "ff = foyer.forcefields.load_GAFF()\n",
    "non_param = box.to_parmed(residues=\"Eth\")\n",
    "param = ff.apply(non_param, assert_dihedral_params=False)"
   ]
  },
  {
   "cell_type": "markdown",
   "metadata": {},
   "source": [
    "# GOMC utility functions\n",
    "Writing our GOMC control file, specifying our simulation parameters"
   ]
  },
  {
   "cell_type": "code",
   "execution_count": 3,
   "metadata": {},
   "outputs": [],
   "source": [
    "def write_gomc_input(\n",
    "    filename,\n",
    "    parm_structure,\n",
    "    coords=\"coords.pdb\",\n",
    "    structure=\"structure.psf\",\n",
    "    parameters=\"parameters.par\",\n",
    "    output=\"output\",\n",
    "):\n",
    "    with open(filename, \"w\") as f:\n",
    "        f.write(\n",
    "            \"\"\" \n",
    "###########################################################################\n",
    "#  ========-------------------- INPUT --------------------------===========\n",
    "############################################################################\n",
    "\n",
    "#########################\n",
    "# enable, step\n",
    "#########################\n",
    "Restart     false\n",
    "\n",
    "\n",
    "####################################\n",
    "# kind (RESTART, RANDOM, INTSEED)\n",
    "####################################\n",
    "PRNG        RANDOM\n",
    "\n",
    "####################################\n",
    "# FORCE FIELD\n",
    "####################################\n",
    "ParaTypeCHARMM   true\n",
    "ParaTypeEXOTIC   false\n",
    "Parameters      {parameters}\n",
    "\n",
    "####################################\n",
    "# INPUT PDB FILES\n",
    "####################################\n",
    "Coordinates 0    {coords}\n",
    "\n",
    "####################################\n",
    "# INPUT PSF FILES\n",
    "####################################\n",
    "Structure 0      {structure}\n",
    "\n",
    "\n",
    "\n",
    "############################################################################\n",
    "#  =======--------------------- SYSTEM --------------------------===========\n",
    "############################################################################\n",
    "\n",
    "##################################\n",
    "# GEMC TYPE (DEFULT IS NVT_GEMC)\n",
    "##################################\n",
    "\n",
    "\n",
    "#############################\n",
    "# SIMULATION CONDITION\n",
    "#############################\n",
    "Temperature     300.00\n",
    "Potential       VDW\n",
    "LRC     true\n",
    "Rcut        10\n",
    "Exclude     1-4\n",
    "\n",
    "#############################\n",
    "# ELECTROSTATIC\n",
    "#############################\n",
    "ElectroStatic   false\n",
    "Ewald           false\n",
    "PressureCalc  true  1000\n",
    "\n",
    "################################\n",
    "# STEPS\n",
    "################################\n",
    "RunSteps           1000000\n",
    "EqSteps        500000\n",
    "AdjSteps       1000\n",
    "\n",
    "################################\n",
    "# MOVE FREQUENCY\n",
    "################################\n",
    "DisFreq               0.60\n",
    "RotFreq           0.10\n",
    "RegrowthFreq          0.30\n",
    "\n",
    "\n",
    "################################\n",
    "# BOX DIMENSION #, X, Y, Z\n",
    "################################\n",
    "CellBasisVector1 0  {box_x}  0.00    0.00\n",
    "CellBasisVector2 0  0.00    {box_y}  0.00\n",
    "CellBasisVector3 0  0.00    0.00    {box_z}\n",
    "\n",
    "\n",
    "##############################\n",
    "# CBMC TRIALS\n",
    "##############################\n",
    "CBMC_First   10\n",
    "CBMC_Nth     8\n",
    "CBMC_Ang     100\n",
    "CBMC_Dih     20\n",
    "\n",
    "####################################\n",
    "#          Mol. Name     Chem. Pot.\n",
    "####################################\n",
    "############################################################################\n",
    "#  =======-------------------- OUTPUT --------------------------===========\n",
    "############################################################################\n",
    "\n",
    "##########################\n",
    "# statistics filename add\n",
    "##########################\n",
    "OutputName  {output}\n",
    "\n",
    "#####################################\n",
    "# enable, frequency\n",
    "#####################################\n",
    "CoordinatesFreq    true   1000000\n",
    "RestartFreq        true   1000000\n",
    "ConsoleFreq        true   100000\n",
    "BlockAverageFreq   true   100000\n",
    "HistogramFreq      false  100000\n",
    "\n",
    "\n",
    "################################\n",
    "# OutHistSettings\n",
    "################################\n",
    "\n",
    "\n",
    "##################################\n",
    "# enable: blk avg., fluct.\n",
    "##################################\n",
    "OutEnergy         true    true\n",
    "OutPressure       true    true\n",
    "OutMolNum         true    true\n",
    "OutDensity        true    true\n",
    "\"\"\".format(\n",
    "                structure=structure,\n",
    "                coords=coords,\n",
    "                parameters=parameters,\n",
    "                output=output,\n",
    "                box_x=parm_structure.box[0],\n",
    "                box_y=parm_structure.box[1],\n",
    "                box_z=parm_structure.box[2],\n",
    "            )\n",
    "        )"
   ]
  },
  {
   "cell_type": "markdown",
   "metadata": {},
   "source": [
    "GOMC uses slightly modified CHARMM PAR files for force field parameters\n",
    "in which the \"ATOMS\" section should be removed from the PAR file and the\n",
    "\"IMPROPERS\" section should be renamed to \"IMPROPER\" (which is for GOMC and NAMD)"
   ]
  },
  {
   "cell_type": "code",
   "execution_count": 4,
   "metadata": {},
   "outputs": [],
   "source": [
    "def modify_par_file(par_file):\n",
    "    \"\"\"GOMC parameter files do not use the atoms or impropers directive\"\"\"\n",
    "    parlines = open(par_file).readlines()\n",
    "    modified_parlines = open(par_file).readlines()\n",
    "    found_atom_section = False\n",
    "    to_delete = []\n",
    "    for i, line in enumerate(parlines):\n",
    "        if \"ATOMS\" in line:\n",
    "            found_atom_section = True\n",
    "            to_delete.append(i)\n",
    "        elif found_atom_section:\n",
    "            if \"MASS\" in line:\n",
    "                to_delete.append(i)\n",
    "            else:\n",
    "                found_atom_section = False\n",
    "\n",
    "        if \"IMPROPERS\" in line:\n",
    "            modified_parlines[i] = \"IMPROPER\\n\"\n",
    "    to_delete.reverse()\n",
    "    for delete_index in to_delete:\n",
    "        modified_parlines.pop(delete_index)\n",
    "    with open(par_file, \"w\") as f:\n",
    "        for line in modified_parlines:\n",
    "            f.write(line)"
   ]
  },
  {
   "cell_type": "markdown",
   "metadata": {},
   "source": [
    "# Write out relevant files\n",
    "PDB file specifies coordinates and atom names (be sure to use ATOM keywords in the PDB, not HETATM).\n",
    "PSF file relates atoms, atom names, atom types, and bonding\n",
    "PAR file contains force field information.\n",
    "Prior to writing our PAR file, we need to \"prepare\" our `parmed.Structure` by converting it to a `parmed.CharmmParameterSet`. As a caveat, `parmed` modifies any atom types that are not completely upper-case, so we will capitalize all atom types."
   ]
  },
  {
   "cell_type": "code",
   "execution_count": 5,
   "metadata": {},
   "outputs": [],
   "source": [
    "# Save PDB and PSF files\n",
    "param.save(\"coords.pdb\", overwrite=True, use_hetatoms=False)\n",
    "param.save(\"structure.psf\", overwrite=True)\n",
    "\n",
    "# Convert atomtypes to uppercase\n",
    "for atom in param.atoms:\n",
    "    atom.type = atom.type.upper()\n",
    "    atom.atom_type.name = atom.atom_type.name.upper()\n",
    "\n",
    "# Prepare parmed Structure by converting to CharmmParameterSet\n",
    "paramset = parmed.charmm.CharmmParameterSet.from_structure(param)\n",
    "paramset.write(par=\"parameters.par\")\n",
    "\n",
    "# Write GOMC run file, which requires box information and knowledge of other input files\n",
    "write_gomc_input(\n",
    "    \"in.conf\",\n",
    "    param,\n",
    "    coords=\"coords.pdb\",\n",
    "    structure=\"structure.psf\",\n",
    "    parameters=\"parameters.par\",\n",
    ")\n",
    "\n",
    "# Post-process PAR file\n",
    "modify_par_file(\"parameters.par\")"
   ]
  },
  {
   "cell_type": "markdown",
   "metadata": {},
   "source": [
    "# Run GOMC simulation"
   ]
  },
  {
   "cell_type": "code",
   "execution_count": 6,
   "metadata": {},
   "outputs": [],
   "source": [
    "p = subprocess.Popen(\n",
    "    \"GOMC_CPU_NVT in.conf\",\n",
    "    shell=True,\n",
    "    stdout=subprocess.PIPE,\n",
    "    stderr=subprocess.PIPE,\n",
    "    universal_newlines=True,\n",
    ")\n",
    "out, err = p.communicate()\n",
    "with open(\"gomc.out\", \"w\") as f:\n",
    "    f.write(out)\n",
    "with open(\"gomc.err\", \"w\") as f:\n",
    "    f.write(err)"
   ]
  },
  {
   "cell_type": "markdown",
   "metadata": {},
   "source": [
    "# Analyze GOMC simulation\n",
    "GOMC files are printed to stdout and block-averaged quantities are printed to a DAT file. \n",
    "We can use numpy and pandas to parse and organize these block-averagged quantities."
   ]
  },
  {
   "cell_type": "code",
   "execution_count": 26,
   "metadata": {},
   "outputs": [],
   "source": [
    "import numpy as np\n",
    "import pandas as pd\n",
    "\n",
    "%matplotlib inline\n",
    "import matplotlib.pyplot as plt"
   ]
  },
  {
   "cell_type": "code",
   "execution_count": 27,
   "metadata": {},
   "outputs": [],
   "source": [
    "data = np.loadtxt(\"Blk_output_BOX_0.dat\")\n",
    "columns = open(\"Blk_output_BOX_0.dat\").readlines()[0]\n",
    "df = pd.DataFrame(data, columns=columns.split())\n",
    "\n",
    "refdata = np.loadtxt(\"ref/Blk_output_BOX_0.dat\")\n",
    "refcolumns = open(\"ref/Blk_output_BOX_0.dat\").readlines()[0]\n",
    "refdf = pd.DataFrame(refdata, columns=columns.split())"
   ]
  },
  {
   "cell_type": "code",
   "execution_count": 28,
   "metadata": {},
   "outputs": [
    {
     "data": {
      "text/plain": [
       "Text(0, 0.5, 'Total Energy (K)')"
      ]
     },
     "execution_count": 28,
     "metadata": {},
     "output_type": "execute_result"
    },
    {
     "data": {
      "image/png": "[encoded data removed]",
      "text/plain": [
       "<Figure size 432x288 with 1 Axes>"
      ]
     },
     "metadata": {
      "needs_background": "light"
     },
     "output_type": "display_data"
    }
   ],
   "source": [
    "fig, ax = plt.subplots(1, 1)\n",
    "ax.plot(df[\"#STEPS\"], df[\"TOT_EN\"], label=\"Simulated\")\n",
    "ax.plot(refdf[\"#STEPS\"], refdf[\"TOT_EN\"], linestyle=\"--\", label=\"Simulated reference\")\n",
    "ax.set_xlabel(\"Timestep\")\n",
    "ax.set_ylabel(\"Total Energy (K)\")"
   ]
  },
  {
   "cell_type": "code",
   "execution_count": 29,
   "metadata": {},
   "outputs": [
    {
     "data": {
      "text/plain": [
       "<matplotlib.legend.Legend at 0x11f32a1d0>"
      ]
     },
     "execution_count": 29,
     "metadata": {},
     "output_type": "execute_result"
    },
    {
     "data": {
      "image/png": "[encoded data removed]",
      "text/plain": [
       "<Figure size 432x288 with 1 Axes>"
      ]
     },
     "metadata": {
      "needs_background": "light"
     },
     "output_type": "display_data"
    }
   ],
   "source": [
    "fig, ax = plt.subplots(1, 1)\n",
    "ax.plot(df[\"#STEPS\"], df[\"PRESSURE\"], label=\"Simulated\")\n",
    "ax.plot(refdf[\"#STEPS\"], refdf[\"PRESSURE\"], linestyle=\"--\", label=\"Simulated reference\")\n",
    "ax.set_xlabel(\"Timestep\")\n",
    "ax.set_ylabel(\"Pressure (bar)\")\n",
    "ax.legend()"
   ]
  },
  {
   "cell_type": "markdown",
   "metadata": {},
   "source": [
    "# Concluding Remarks\n",
    "\n",
    "We have performed an NVT simulation in GOMC using a variety of Python libraries to help organize and simplify our work. The routines should serve as a good example for reproducibly and extensibly building your own GOMC workflows. Utilizing workflow managers for large-scale virtual screening is left as an exercise to the reader."
   ]
  }
 ],
 "metadata": {
  "kernelspec": {
   "display_name": "Python 3",
   "language": "python",
   "name": "python3"
  },
  "language_info": {
   "codemirror_mode": {
    "name": "ipython",
    "version": 3
   },
   "file_extension": ".py",
   "mimetype": "text/x-python",
   "name": "python",
   "nbconvert_exporter": "python",
   "pygments_lexer": "ipython3",
   "version": "3.6.7"
  }
 },
 "nbformat": 4,
 "nbformat_minor": 2
}
