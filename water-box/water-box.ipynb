{
 "cells": [
  {
   "cell_type": "markdown",
   "metadata": {},
   "source": [
    "## Water box\n",
    "\n",
    "This workflow demonstrates how to use MoSDeF to prepare, run, and briefly analyze an MD simulation of water"
   ]
  },
  {
   "cell_type": "markdown",
   "metadata": {},
   "source": [
    "## Install requirements"
   ]
  },
  {
   "cell_type": "code",
   "execution_count": null,
   "metadata": {},
   "outputs": [],
   "source": [
    "!conda install --file requirements.txt --yes"
   ]
  },
  {
   "cell_type": "markdown",
   "metadata": {},
   "source": [
    "If `gmx` (the `GROMACS` executable) is not found, install it via `conda`."
   ]
  },
  {
   "cell_type": "code",
   "execution_count": null,
   "metadata": {},
   "outputs": [],
   "source": [
    "!if ! [ -x \"$(command -v gmx)\" ]; then conda install -c bioconda gromacs; fi"
   ]
  },
  {
   "cell_type": "code",
   "execution_count": null,
   "metadata": {},
   "outputs": [],
   "source": [
    "import mbuild\n",
    "import foyer"
   ]
  },
  {
   "cell_type": "markdown",
   "metadata": {},
   "source": [
    "## Preparing the system coordinates\n",
    "\n",
    "After importing our libraries, can load in a water molecule from disk. Then, the packing function `fill_box` calls `PACKMOL` under the hood to place copies of this molecule in a cubic box."
   ]
  },
  {
   "cell_type": "code",
   "execution_count": null,
   "metadata": {},
   "outputs": [],
   "source": [
    "water = mb.load('files/spce.mol2')\n",
    "water.name = 'water'"
   ]
  },
  {
   "cell_type": "code",
   "execution_count": null,
   "metadata": {},
   "outputs": [],
   "source": [
    "water_box = mb.fill_box(\n",
    "    compound=water,     \n",
    "    n_compounds=3000,\n",
    "    density=1000,\n",
    ")"
   ]
  },
  {
   "cell_type": "markdown",
   "metadata": {},
   "source": [
    "## Applying the force field\n",
    "\n",
    "We use `Foyer` to load the SPC/E force field, in XML format, and apply it to our system."
   ]
  },
  {
   "cell_type": "code",
   "execution_count": null,
   "metadata": {},
   "outputs": [],
   "source": [
    "spce = Forcefield('files/spce.xml')\n",
    "system = spce.apply(water_box.to_parmed(residues=['water']))"
   ]
  },
  {
   "cell_type": "markdown",
   "metadata": {},
   "source": [
    "Finally, we save out two of the files we need to run a `GROMACS` simulation. The GRO file stores atomic coordinates and the TOP file stores force field information."
   ]
  },
  {
   "cell_type": "code",
   "execution_count": null,
   "metadata": {},
   "outputs": [],
   "source": [
    "system.save('system.gro', combine='all')\n",
    "system.save('system.top', combine='all')"
   ]
  },
  {
   "cell_type": "markdown",
   "metadata": {},
   "source": [
    "## Running the simulation\n",
    "\n",
    "We need to call `grompp` to prepare the simulation and then run it with `mdrun`"
   ]
  },
  {
   "cell_type": "code",
   "execution_count": null,
   "metadata": {},
   "outputs": [],
   "source": [
    "!gmx grompp -f files/npt.mdp -c system.gro -p system.top -o npt.tpr"
   ]
  },
  {
   "cell_type": "code",
   "execution_count": null,
   "metadata": {
    "scrolled": true
   },
   "outputs": [],
   "source": [
    "!gmx mdrun -v -deffnm npt"
   ]
  },
  {
   "cell_type": "markdown",
   "metadata": {},
   "source": [
    "# Analyzing the simulation\n",
    "\n",
    "Here we use `MDTraj` to load trajectory data from disk and make a quick plot of the density over time compared to reference data."
   ]
  },
  {
   "cell_type": "code",
   "execution_count": null,
   "metadata": {},
   "outputs": [],
   "source": [
    "import mdtraj as md\n",
    "import numpy as np\n",
    "\n",
    "trj = md.load('npt.xtc', top='system.gro')"
   ]
  },
  {
   "cell_type": "code",
   "execution_count": null,
   "metadata": {},
   "outputs": [],
   "source": [
    "rho = md.density(trj)\n",
    "\n",
    "rho_ref = np.loadtxt('ref_data/rho.txt')"
   ]
  },
  {
   "cell_type": "code",
   "execution_count": null,
   "metadata": {},
   "outputs": [],
   "source": [
    "import matplotlib.pyplot as plt"
   ]
  },
  {
   "cell_type": "code",
   "execution_count": null,
   "metadata": {},
   "outputs": [],
   "source": [
    "fig, ax = plt.subplots()\n",
    "\n",
    "ax.plot(trj.time, rho, 'b-', label='Data')\n",
    "ax.plot(rho_ref[:, 0], rho_ref[:, 1], 'k-', label='Reference')\n",
    "ax.legend()\n",
    "ax.set_xlabel('Simulation time, ps')\n",
    "ax.set_ylabel('System density, kg/m^3')"
   ]
  }
 ],
 "metadata": {
  "kernelspec": {
   "display_name": "Python 3",
   "language": "python",
   "name": "python3"
  },
  "language_info": {
   "codemirror_mode": {
    "name": "ipython",
    "version": 3
   },
   "file_extension": ".py",
   "mimetype": "text/x-python",
   "name": "python",
   "nbconvert_exporter": "python",
   "pygments_lexer": "ipython3",
   "version": "3.7.6"
  }
 },
 "nbformat": 4,
 "nbformat_minor": 2
}
