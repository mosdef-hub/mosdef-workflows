{
 "cells": [
  {
   "cell_type": "markdown",
   "metadata": {},
   "source": [
    "# MoSDeF + HOOMD + Freud simulations of LJ particles at multiple thermodynamic states\n",
    "\n",
    "We will be attempting to reproduce some RDFs produced by Moore et al. (2014). \n",
    "In this publication, LJ particles were simulated at a variety of thermodynamic statepoints.\n",
    "\n",
    "![moore2014.png](./moore2014.png)\n",
    "\n",
    "Moore, T. C.; Iacovella, C. R.; McCabe, C. Derivation of Coarse-Grained Potentials via Multistate Iterative Boltzmann Inversion. J. Chem. Phys. 2014, 140 (22)."
   ]
  },
  {
   "cell_type": "code",
   "execution_count": 1,
   "metadata": {},
   "outputs": [],
   "source": [
    "import foyer\n",
    "import hoomd\n",
    "import mbuild as mb\n",
    "import unyt as u\n",
    "from mbuild.formats.gsdwriter import write_gsd\n",
    "from mbuild.formats.hoomd_simulation import create_hoomd_simulation\n",
    "\n",
    "%matplotlib inline\n",
    "import freud\n",
    "import gsd\n",
    "import matplotlib.pyplot as plt"
   ]
  },
  {
   "cell_type": "markdown",
   "metadata": {},
   "source": [
    "We will outline some basic constants to facilitate conversions to and from unitless to physical dimensions.\n",
    "The foyer XML within this repo contains the same force field information."
   ]
  },
  {
   "cell_type": "code",
   "execution_count": 2,
   "metadata": {},
   "outputs": [],
   "source": [
    "# Basic constants and LJ Argon properties\n",
    "sig = 0.34 * u.nm\n",
    "eps = 1 * u.kilojoule\n",
    "mass = 39.948 * u.amu\n",
    "kb_per_mol = u.boltzmann_constant * 6.022e23\n",
    "n = 2000"
   ]
  },
  {
   "cell_type": "code",
   "execution_count": 3,
   "metadata": {},
   "outputs": [
    {
     "name": "stdout",
     "output_type": "stream",
     "text": [
      "<?xml version=\"1.0\" encoding=\"UTF-8\"?>\r\n",
      "<ForceField >\r\n",
      "  <!--XML units: kJ/mol for energies, nm for lengths, and radians for angles.-->\r\n",
      "  <AtomTypes>\r\n",
      "    <Type name=\"Ar\" class=\"Ar\" element=\"Ar\" mass=\"39.948\" def=\"[Ar]\" desc=\"LJ Argon\"/>\r\n",
      "  </AtomTypes>\r\n",
      "  <HarmonicBondForce>\r\n",
      "  </HarmonicBondForce>\r\n",
      "  <HarmonicAngleForce/>\r\n",
      "  <RBTorsionForce>\r\n",
      "  </RBTorsionForce>\r\n",
      "  <NonbondedForce coulomb14scale=\"0.0\" lj14scale=\"0.0\">\r\n",
      "    <Atom type=\"Ar\" charge=\"0\" sigma=\"0.34\" epsilon=\"1.00\"/>\r\n",
      "  </NonbondedForce>\r\n",
      "</ForceField>\r\n"
     ]
    }
   ],
   "source": [
    "!head -n15 ff.xml"
   ]
  },
  {
   "cell_type": "code",
   "execution_count": 4,
   "metadata": {},
   "outputs": [],
   "source": [
    "# Define various thermodynamic state points, in reduced units\n",
    "statepoints = {\n",
    "    \"a\": {\"T_r\": 0.5, \"rho_r\": 0.85},\n",
    "    \"b\": {\"T_r\": 1.5, \"rho_r\": 0.67},\n",
    "    \"c\": {\"T_r\": 2.0, \"rho_r\": 0.18},\n",
    "}"
   ]
  },
  {
   "cell_type": "code",
   "execution_count": 5,
   "metadata": {},
   "outputs": [
    {
     "name": "stderr",
     "output_type": "stream",
     "text": [
      "/home/ayang41/miniconda3/envs/hoomd_lj/lib/python3.7/site-packages/foyer/forcefield.py:449: UserWarning: No force field version number found in force field XML file.\n",
      "  'No force field version number found in force field XML file.'\n",
      "/home/ayang41/miniconda3/envs/hoomd_lj/lib/python3.7/site-packages/foyer/forcefield.py:461: UserWarning: No force field name found in force field XML file.\n",
      "  'No force field name found in force field XML file.'\n"
     ]
    },
    {
     "name": "stdout",
     "output_type": "stream",
     "text": [
      "HOOMD-blue 2.9.2 CUDA (10.0) DOUBLE HPMC_MIXED TBB SSE SSE2 SSE3 \n",
      "Compiled: 06/26/2020\n",
      "Copyright (c) 2009-2019 The Regents of the University of Michigan.\n",
      "-----\n",
      "You are using HOOMD-blue. Please cite the following:\n",
      "* J A Anderson, J Glaser, and S C Glotzer. \"HOOMD-blue: A Python package for\n",
      "  high-performance molecular dynamics and hard particle Monte Carlo\n",
      "  simulations\", Computational Materials Science 173 (2020) 109363\n",
      "-----\n",
      "CUDA driver version is insufficient for CUDA runtime version\n",
      "HOOMD-blue is running on the CPU\n",
      "notice(2): Group \"all\" created containing 2000 particles\n"
     ]
    },
    {
     "name": "stderr",
     "output_type": "stream",
     "text": [
      "/home/ayang41/miniconda3/envs/hoomd_lj/lib/python3.7/site-packages/parmed/openmm/topsystem.py:238: OpenMMWarning: Adding what seems to be Urey-Bradley terms before Angles. This is unexpected, but the parameters will all be present in one form or another.\n",
      "  'all be present in one form or another.', OpenMMWarning)\n",
      "*Warning*: nlist: No bonds defined while trying to add topology derived 1-3 exclusions\n"
     ]
    },
    {
     "name": "stdout",
     "output_type": "stream",
     "text": [
      "notice(2): -- Neighborlist exclusion statistics -- :\n",
      "notice(2): Particles with 0 exclusions             : 2000\n",
      "notice(2): Neighbors included by diameter          : no\n",
      "notice(2): Neighbors excluded when in the same body: no\n",
      "Processing LJ and QQ\n",
      "notice(2): Group \"charged\" created containing 0 particles\n",
      "No charged groups found, ignoring electrostatics\n",
      "HOOMD SimulationContext updated from ParmEd Structure\n",
      "** starting run **\n",
      "Time 00:00:10 | Step 2049 / 10000 | TPS 204.899 | ETA 00:00:38\n",
      "Time 00:00:20 | Step 4203 / 10000 | TPS 215.377 | ETA 00:00:26\n",
      "Time 00:00:30 | Step 6386 / 10000 | TPS 218.239 | ETA 00:00:16\n",
      "Time 00:00:40 | Step 8602 / 10000 | TPS 221.573 | ETA 00:00:06\n",
      "Time 00:00:46 | Step 10000 / 10000 | TPS 223.031 | ETA 00:00:00\n",
      "Average TPS: 216.104\n",
      "---------\n",
      "-- Neighborlist stats:\n",
      "28 normal updates / 100 forced updates / 0 dangerous updates\n",
      "n_neigh_min: 0 / n_neigh_max: 394 / n_neigh_avg: 185.739\n",
      "shortest rebuild period: 5\n",
      "-- Cell list stats:\n",
      "Dimension: 2, 2, 2\n",
      "n_min    : 243 / n_max: 257 / n_avg: 250\n",
      "** run complete **\n",
      "notice(2): Group \"all\" created containing 2000 particles\n"
     ]
    },
    {
     "name": "stderr",
     "output_type": "stream",
     "text": [
      "/home/ayang41/miniconda3/envs/hoomd_lj/lib/python3.7/site-packages/parmed/openmm/topsystem.py:238: OpenMMWarning: Adding what seems to be Urey-Bradley terms before Angles. This is unexpected, but the parameters will all be present in one form or another.\n",
      "  'all be present in one form or another.', OpenMMWarning)\n",
      "*Warning*: nlist: No bonds defined while trying to add topology derived 1-3 exclusions\n"
     ]
    },
    {
     "name": "stdout",
     "output_type": "stream",
     "text": [
      "notice(2): -- Neighborlist exclusion statistics -- :\n",
      "notice(2): Particles with 0 exclusions             : 2000\n",
      "notice(2): Neighbors included by diameter          : no\n",
      "notice(2): Neighbors excluded when in the same body: no\n",
      "Processing LJ and QQ\n",
      "notice(2): Group \"charged\" created containing 0 particles\n",
      "No charged groups found, ignoring electrostatics\n",
      "HOOMD SimulationContext updated from ParmEd Structure\n",
      "** starting run **\n",
      "Time 00:00:10 | Step 2295 / 10000 | TPS 229.471 | ETA 00:00:33\n",
      "Time 00:00:20 | Step 4660 / 10000 | TPS 235.981 | ETA 00:00:22\n",
      "Time 00:00:30 | Step 7110 / 10000 | TPS 244.921 | ETA 00:00:11\n",
      "Time 00:00:40 | Step 9576 / 10000 | TPS 246.572 | ETA 00:00:01\n",
      "Time 00:00:41 | Step 10000 / 10000 | TPS 238.03 | ETA 00:00:00\n",
      "Average TPS: 239.179\n",
      "---------\n",
      "-- Neighborlist stats:\n",
      "122 normal updates / 100 forced updates / 0 dangerous updates\n",
      "n_neigh_min: 0 / n_neigh_max: 303 / n_neigh_avg: 145.869\n",
      "shortest rebuild period: 6\n",
      "-- Cell list stats:\n",
      "Dimension: 3, 3, 3\n",
      "n_min    : 65 / n_max: 82 / n_avg: 74.0741\n",
      "** run complete **\n",
      "notice(2): Group \"all\" created containing 2000 particles\n"
     ]
    },
    {
     "name": "stderr",
     "output_type": "stream",
     "text": [
      "/home/ayang41/miniconda3/envs/hoomd_lj/lib/python3.7/site-packages/parmed/openmm/topsystem.py:238: OpenMMWarning: Adding what seems to be Urey-Bradley terms before Angles. This is unexpected, but the parameters will all be present in one form or another.\n",
      "  'all be present in one form or another.', OpenMMWarning)\n",
      "*Warning*: nlist: No bonds defined while trying to add topology derived 1-3 exclusions\n"
     ]
    },
    {
     "name": "stdout",
     "output_type": "stream",
     "text": [
      "notice(2): -- Neighborlist exclusion statistics -- :\n",
      "notice(2): Particles with 0 exclusions             : 2000\n",
      "notice(2): Neighbors included by diameter          : no\n",
      "notice(2): Neighbors excluded when in the same body: no\n",
      "Processing LJ and QQ\n",
      "notice(2): Group \"charged\" created containing 0 particles\n",
      "No charged groups found, ignoring electrostatics\n",
      "HOOMD SimulationContext updated from ParmEd Structure\n",
      "** starting run **\n",
      "Time 00:00:10 | Step 7554 / 10000 | TPS 754.766 | ETA 00:00:03\n",
      "Time 00:00:13 | Step 10000 / 10000 | TPS 774.173 | ETA 00:00:00\n",
      "Average TPS: 759.366\n",
      "---------\n",
      "-- Neighborlist stats:\n",
      "170 normal updates / 100 forced updates / 0 dangerous updates\n",
      "n_neigh_min: 0 / n_neigh_max: 86 / n_neigh_avg: 39.2375\n",
      "shortest rebuild period: 8\n",
      "-- Cell list stats:\n",
      "Dimension: 4, 4, 4\n",
      "n_min    : 23 / n_max: 46 / n_avg: 31.25\n",
      "** run complete **\n"
     ]
    }
   ],
   "source": [
    "# Iterate through each thermodynamic statepoint, building, parametrizing, and simulating the system\n",
    "for i, statepoint in statepoints.items():\n",
    "    # Create LJ particle\n",
    "    lj_compound = mb.Compound(name=\"Ar\")\n",
    "\n",
    "    # Create mbuild Box based on reduced density\n",
    "    volume = n * sig ** 3 / statepoint[\"rho_r\"]\n",
    "    cubic_box_length = volume ** (1 / 3)\n",
    "    box = mb.Box([cubic_box_length, cubic_box_length, cubic_box_length])\n",
    "\n",
    "    # Use mbuild to pack box with LJ particles\n",
    "    # Use freud to wrap coordinates within box\n",
    "    freud_box = freud.box.Box.from_box(box.lengths)\n",
    "    filled_box = mb.fill_box(lj_compound, n_compounds=n, box=box)\n",
    "    filled_box.xyz = freud_box.wrap(filled_box.xyz)\n",
    "\n",
    "    # Apply foyer force field\n",
    "    ff = foyer.Forcefield(\"ff.xml\")\n",
    "    structure = ff.apply(filled_box)\n",
    "\n",
    "    # Dump initial coordinates\n",
    "    write_gsd(structure, f\"{i}_init.gsd\", ref_distance=10, ref_energy=1 / 4.184)\n",
    "\n",
    "    # Initialize hoomd simulation with relevant force field parameters\n",
    "    hoomd.context.initialize(\"\")\n",
    "    snapshot, ref_vals = create_hoomd_simulation(\n",
    "        structure, ref_distance=10, ref_energy=1 / 4.184\n",
    "    )\n",
    "\n",
    "    # Define hoomd group for dumping and integrating\n",
    "    all_group = hoomd.group.all()\n",
    "\n",
    "    # Dump coordinates to GSD file\n",
    "    gsd_dump = hoomd.dump.gsd(f\"{i}.gsd\", 100, all_group, overwrite=True)\n",
    "\n",
    "    # Define integration timestep\n",
    "    hoomd.md.integrate.mode_standard(0.005)\n",
    "\n",
    "    # Specify integrator with velocity randomization\n",
    "    integrator = hoomd.md.integrate.nvt(all_group, statepoint[\"T_r\"], 1.0)\n",
    "    integrator.randomize_velocities(42)\n",
    "\n",
    "    hoomd.run(10000)"
   ]
  },
  {
   "cell_type": "code",
   "execution_count": 6,
   "metadata": {},
   "outputs": [
    {
     "data": {
      "image/png": "[encoded data removed]",
      "text/plain": [
       "<Figure size 576x576 with 4 Axes>"
      ]
     },
     "metadata": {
      "needs_background": "light"
     },
     "output_type": "display_data"
    }
   ],
   "source": [
    "# Analyze the simulations by computing RDFs via freud\n",
    "fig, ax = plt.subplots(2, 2, figsize=(8, 8))\n",
    "for i, name in enumerate(statepoints):\n",
    "    with gsd.hoomd.open(f\"{name}.gsd\", \"rb\") as f:\n",
    "        freud_rdf = freud.density.RDF(bins=50, r_max=2, r_min=0)\n",
    "        for frame in f:\n",
    "            freud_rdf.compute(system=frame, reset=False)\n",
    "    row = i // 2\n",
    "    col = i % 2\n",
    "\n",
    "    density = statepoints[name][\"rho_r\"]\n",
    "    temperature = statepoints[name][\"T_r\"]\n",
    "\n",
    "    ax[row, col].set_ylabel(\"g(r)\", size=18)\n",
    "    ax[row, col].set_xlabel(r\"r/$\\sigma$\", size=18)\n",
    "\n",
    "    ax[row, col].set_title(fr\"$T_r$={temperature:.3f}, $\\rho_r$={density:.3f}\", size=18)\n",
    "    ax[row, col].plot(freud_rdf.bin_centers / sig, freud_rdf.rdf)\n",
    "    fig.tight_layout()"
   ]
  },
  {
   "cell_type": "markdown",
   "metadata": {},
   "source": [
    "\n",
    "![moore2014.png](./moore2014.png)\n",
    "\n",
    "Moore, T. C.; Iacovella, C. R.; McCabe, C. Derivation of Coarse-Grained Potentials via Multistate Iterative Boltzmann Inversion. J. Chem. Phys. 2014, 140 (22)."
   ]
  }
 ],
 "metadata": {
  "kernelspec": {
   "display_name": "Python 3",
   "language": "python",
   "name": "python3"
  },
  "language_info": {
   "codemirror_mode": {
    "name": "ipython",
    "version": 3
   },
   "file_extension": ".py",
   "mimetype": "text/x-python",
   "name": "python",
   "nbconvert_exporter": "python",
   "pygments_lexer": "ipython3",
   "version": "3.7.6"
  }
 },
 "nbformat": 4,
 "nbformat_minor": 2
}
