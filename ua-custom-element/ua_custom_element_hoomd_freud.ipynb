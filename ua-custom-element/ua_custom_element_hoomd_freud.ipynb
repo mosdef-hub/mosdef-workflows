{
 "cells": [
  {
   "cell_type": "markdown",
   "metadata": {},
   "source": [
    "## United-atom, custom-element workflow with HOOMD and freud\n",
    "This workflow is designed to show users how to implement united-atom or coarse-grained particles into mbBuild and foyer. Additionally, we show how [HOOMD-blue](https://hoomd-blue.readthedocs.io/) and [freud](https://freud.readthedocs.io/) can be used to conduct and analyze a molecular dynamics simulation."
   ]
  },
  {
   "cell_type": "markdown",
   "metadata": {},
   "source": [
    "You will need hoomd, freud (at least 2.0), and gsd:\n",
    "```\n",
    "conda install -c conda-forge hoomd freud>=2.0 gsd\n",
    "```"
   ]
  },
  {
   "cell_type": "code",
   "execution_count": null,
   "metadata": {},
   "outputs": [],
   "source": [
    "import mbuild as mb\n",
    "from foyer import Forcefield"
   ]
  },
  {
   "cell_type": "markdown",
   "metadata": {},
   "source": [
    "In the general MoSDeF workflow, elements are attempted to be inferred from the names of `mb.Particle` objects\n",
    "prior to atomtyping in foyer (as SMARTS definitions are generally based off element symbols).\n",
    "\n",
    "However, united-atom or coarse-grained representations do not follow periodic elemental naming. To circumvent this,\n",
    "we *add an underscore before each particle name*. When attempting to infer elements, no periodic elements can be inferred, and a **custom element** is created and applied to the particle. \n",
    "\n",
    "The follow mbuild code constructs various united-atom representations of CH4, CH3, and OH. \n",
    "*Note the underscore naming scheme*.\n",
    "\n",
    "Methane compounds are a single particle, while a methanol compound is a two-particle compound conssiting of a CH3 bead and OH bead"
   ]
  },
  {
   "cell_type": "code",
   "execution_count": null,
   "metadata": {},
   "outputs": [],
   "source": [
    "methane_cmpd = mb.Compound()\n",
    "methane_particle = mb.Particle(name=\"_CH4\")\n",
    "methane_cmpd.add(methane_particle)\n",
    "methanol = mb.Compound()\n",
    "ch3 = mb.Particle(name=\"_CH3\")\n",
    "oh = mb.Particle(name=\"_OH\")\n",
    "methanol.add([ch3, oh])\n",
    "\n",
    "ch3_port = mb.Port(anchor=ch3, orientation=[1, 0, 0], separation=0.07)\n",
    "methanol.add(ch3_port, label=\"right\")\n",
    "\n",
    "oh_port = mb.Port(anchor=oh, orientation=[-1, 0, 0], separation=0.07)\n",
    "methanol.add(oh_port, label=\"left\")\n",
    "\n",
    "mb.force_overlap(\n",
    "    move_this=oh, from_positions=methanol[\"left\"], to_positions=methanol[\"right\"]\n",
    ")"
   ]
  },
  {
   "cell_type": "markdown",
   "metadata": {},
   "source": [
    "To replicate these compounds, we utilize an `mb.Grid3DPattern`. Alternatively, one could use `mb.packing` functionality - however, `n_compounds` and `box` would likely have to be passed to `mb.fill_box`. If attempting to pass a `density` kwarg, the packing functionality will try to infer particle masses and can lead to some unpredictable behavior"
   ]
  },
  {
   "cell_type": "code",
   "execution_count": null,
   "metadata": {},
   "outputs": [],
   "source": [
    "methane_grid = mb.Grid3DPattern(2, 2, 2)\n",
    "methane_grid.scale(0.4)\n",
    "list_of_methanes = methane_grid.apply(methane_cmpd)\n",
    "methane_box = mb.Compound(list_of_methanes)"
   ]
  },
  {
   "cell_type": "code",
   "execution_count": null,
   "metadata": {},
   "outputs": [],
   "source": [
    "methanol_grid = mb.Grid3DPattern(2, 2, 2)\n",
    "methanol_grid.scale(0.4)\n",
    "list_of_methanols = methane_grid.apply(methanol)\n",
    "methanol_box = mb.Compound(list_of_methanols)\n",
    "methanol_box.translate([0, 0, 1.1 * max(methane_box.xyz[:, 2])])"
   ]
  },
  {
   "cell_type": "code",
   "execution_count": null,
   "metadata": {},
   "outputs": [],
   "source": [
    "mixture_box = mb.Compound([methane_box, methanol_box])"
   ]
  },
  {
   "cell_type": "markdown",
   "metadata": {},
   "source": [
    "Now that we have initialized our united-atom system, we can proceed to use foyer to atomtype and parametrize our system. \n",
    "\n",
    "It is worth observing how the AtomType definitions, names, classes, and elements work together in a united-atom or coarse-grained application."
   ]
  },
  {
   "cell_type": "code",
   "execution_count": null,
   "metadata": {},
   "outputs": [],
   "source": [
    "!head -n 16 ff.xml"
   ]
  },
  {
   "cell_type": "code",
   "execution_count": null,
   "metadata": {},
   "outputs": [],
   "source": [
    "ff = Forcefield(forcefield_files=\"ff.xml\")\n",
    "struc = ff.apply(mixture_box)"
   ]
  },
  {
   "cell_type": "markdown",
   "metadata": {},
   "source": [
    "We will use the `gsd` file format as input to our HOOMD simulation"
   ]
  },
  {
   "cell_type": "code",
   "execution_count": null,
   "metadata": {},
   "outputs": [],
   "source": [
    "from mbuild.formats.gsdwriter import write_gsd\n",
    "\n",
    "write_gsd(struc, \"box.gsd\")"
   ]
  },
  {
   "cell_type": "markdown",
   "metadata": {},
   "source": [
    "At this point, we have constructed, parametrized, and written-out our united-atom system. We will proceed to use HOOMD to conduct a molecular dynamics simulation"
   ]
  },
  {
   "cell_type": "code",
   "execution_count": null,
   "metadata": {},
   "outputs": [],
   "source": [
    "import hoomd\n",
    "import hoomd.md"
   ]
  },
  {
   "cell_type": "markdown",
   "metadata": {},
   "source": [
    "Even though we were able to parametrize an `mb.Compound` into a parametrized `pmd.Structure`, the parameters are not actually stored in the `gsd` file, only the lists of positions, atomtypes, bonds, angles, etc.\n",
    "\n",
    "Within the HOOMD commands, we need to initialize the `hoomd.md.pair.LJ` and `hoomd.md.bond.harmonic` objects, which serve as a container for the various nonbonded and bonded parameters. \n",
    "\n",
    "The ability to pass parameters from a parametrized system to a HOOMD simulation is underway, but this can also be an exercise left to the user to systematically enumerate the relevant force field parameters in the simulation."
   ]
  },
  {
   "cell_type": "code",
   "execution_count": null,
   "metadata": {},
   "outputs": [],
   "source": [
    "hoomd.context.initialize(\"\")\n",
    "system = hoomd.init.read_gsd(\"box.gsd\")\n",
    "nl = hoomd.md.nlist.cell()\n",
    "lj = hoomd.md.pair.lj(3, nl)\n",
    "lj.pair_coeff.set(\"CH4\", \"CH4\", sigma=0.373, epsilon=1.23054)\n",
    "lj.pair_coeff.set(\"OH\", \"OH\", sigma=0.302, epsilon=0.773)\n",
    "lj.pair_coeff.set(\"CH3\", \"CH3\", sigma=0.375, epsilon=0.815)\n",
    "\n",
    "lj.pair_coeff.set(\"CH4\", \"OH\", sigma=0.3375, epsilon=0.975)\n",
    "lj.pair_coeff.set(\"CH4\", \"CH3\", sigma=0.374, epsilon=1.001)\n",
    "lj.pair_coeff.set(\"CH3\", \"OH\", sigma=0.3385, epsilon=0.7938)\n",
    "\n",
    "bonds = hoomd.md.bond.harmonic()\n",
    "bonds.bond_coeff.set(\"CH3-OH\", k=502416, r0=0.1430)"
   ]
  },
  {
   "cell_type": "markdown",
   "metadata": {},
   "source": [
    "We will run an NVT simulation and dump the trajectory to `traj.gsd`"
   ]
  },
  {
   "cell_type": "code",
   "execution_count": null,
   "metadata": {},
   "outputs": [],
   "source": [
    "all_ = hoomd.group.all()\n",
    "hoomd.md.integrate.mode_standard(0.002)\n",
    "hoomd.md.integrate.nvt(all_, 10, 0.1)\n",
    "\n",
    "dump = hoomd.dump.gsd(\"traj.gsd\", 1000, group=all_, overwrite=True)\n",
    "hoomd.run(1e7)"
   ]
  },
  {
   "cell_type": "markdown",
   "metadata": {},
   "source": [
    "After conducting the HOOMD simulation, we will use `freud`, `gsd`, and `numpy` to analyze the simulation, looking at various RDFs"
   ]
  },
  {
   "cell_type": "code",
   "execution_count": null,
   "metadata": {},
   "outputs": [],
   "source": [
    "import freud\n",
    "import gsd.hoomd\n",
    "import numpy as np"
   ]
  },
  {
   "cell_type": "markdown",
   "metadata": {},
   "source": [
    "We can read in the `gsd` file and construct a `HOOMDTrajectory` object from it."
   ]
  },
  {
   "cell_type": "code",
   "execution_count": null,
   "metadata": {},
   "outputs": [],
   "source": [
    "hoomd_traj = gsd.hoomd.open(name=\"traj.gsd\", mode=\"rb\")"
   ]
  },
  {
   "cell_type": "markdown",
   "metadata": {},
   "source": [
    "Initialize the freud RDF analysis objects."
   ]
  },
  {
   "cell_type": "code",
   "execution_count": null,
   "metadata": {},
   "outputs": [],
   "source": [
    "bins = 50\n",
    "r_max = 2\n",
    "ch3_ch3_rdf = freud.density.RDF(bins, r_max)\n",
    "ch4_ch4_rdf = freud.density.RDF(bins, r_max)\n",
    "oh_oh_rdf = freud.density.RDF(bins, r_max)\n",
    "\n",
    "ch3_ch4_rdf = freud.density.RDF(bins, r_max)\n",
    "ch3_oh_rdf = freud.density.RDF(bins, r_max)\n",
    "ch4_oh_rdf = freud.density.RDF(bins, r_max)"
   ]
  },
  {
   "cell_type": "markdown",
   "metadata": {},
   "source": [
    "Iterating through each frame in the `HOOMDTrajectory`, identify the various types of particles, then compute and accumulate the various particle-particle RDFs"
   ]
  },
  {
   "cell_type": "code",
   "execution_count": null,
   "metadata": {},
   "outputs": [],
   "source": [
    "def get_ids(frame, typename):\n",
    "    return np.where(frame.particles.typeid == frame.particles.types.index(typename))[0]\n",
    "\n",
    "\n",
    "for frame in hoomd_traj:\n",
    "    ch3_particles = get_ids(frame, \"CH3\")\n",
    "    ch4_particles = get_ids(frame, \"CH4\")\n",
    "    oh_particles = get_ids(frame, \"OH\")\n",
    "\n",
    "    ch3_positions = np.array(frame.particles.position[ch3_particles])\n",
    "    ch4_positions = np.array(frame.particles.position[ch4_particles])\n",
    "    oh_positions = np.array(frame.particles.position[oh_particles])\n",
    "\n",
    "    ch3_ch3_rdf.compute(system=(frame.configuration.box, ch3_positions), reset=False)\n",
    "    ch4_ch4_rdf.compute(system=(frame.configuration.box, ch4_positions), reset=False)\n",
    "    oh_oh_rdf.compute(system=(frame.configuration.box, oh_positions), reset=False)"
   ]
  },
  {
   "cell_type": "markdown",
   "metadata": {},
   "source": [
    "We can use `matplotlib` to plot the simulated RDFs and compare to the reference RDFs.\n",
    "\n",
    "Note: because the simulation is so short and small, the RDFs will have noise and some disagreement."
   ]
  },
  {
   "cell_type": "code",
   "execution_count": null,
   "metadata": {},
   "outputs": [],
   "source": [
    "%matplotlib inline\n",
    "import matplotlib.pyplot as plt\n",
    "\n",
    "fig, ax = plt.subplots(1, 3, figsize=(10, 6), sharex=True, sharey=True)\n",
    "\n",
    "ax[0].plot(ch3_ch3_rdf.bin_centers, ch3_ch3_rdf.rdf)\n",
    "ref_ch3_ch3 = np.loadtxt(\"ref/CH3-CH3.dat\")\n",
    "ax[0].plot(ref_ch3_ch3[:, 0], ref_ch3_ch3[:, 1], linestyle=\"--\")\n",
    "ax[0].set_ylabel(\"CH3-CH3 RDF\")\n",
    "ax[0].set_xlim([0.1, 2])\n",
    "ax[0].set_ylim([0, 2])\n",
    "\n",
    "ax[1].plot(ch4_ch4_rdf.bin_centers, ch4_ch4_rdf.rdf)\n",
    "ref_ch4_ch4 = np.loadtxt(\"ref/CH4-CH4.dat\")\n",
    "ax[1].plot(ref_ch4_ch4[:, 0], ref_ch4_ch4[:, 1], linestyle=\"--\")\n",
    "ax[1].set_ylabel(\"CH4-CH4 RDF\")\n",
    "\n",
    "ax[2].plot(oh_oh_rdf.bin_centers, oh_oh_rdf.rdf)\n",
    "ref_oh_oh = np.loadtxt(\"ref/OH-OH.dat\")\n",
    "ax[2].plot(ref_oh_oh[:, 0], ref_oh_oh[:, 1], linestyle=\"--\")\n",
    "ax[2].set_ylabel(\"OH-OH RDF\")\n",
    "\n",
    "fig.tight_layout()"
   ]
  }
 ],
 "metadata": {
  "kernelspec": {
   "display_name": "Python 3",
   "language": "python",
   "name": "python3"
  },
  "language_info": {
   "codemirror_mode": {
    "name": "ipython",
    "version": 3
   },
   "file_extension": ".py",
   "mimetype": "text/x-python",
   "name": "python",
   "nbconvert_exporter": "python",
   "pygments_lexer": "ipython3",
   "version": "3.7.6"
  }
 },
 "nbformat": 4,
 "nbformat_minor": 2
}
