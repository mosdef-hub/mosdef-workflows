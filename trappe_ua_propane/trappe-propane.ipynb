{
 "cells": [
  {
   "cell_type": "markdown",
   "metadata": {},
   "source": [
    "# Step 0: Installing requirements\n",
    "\n",
    "The [conda](https://docs.conda.io/en/latest/) package manager is used to install the packages used in this workflow. If GROMACS is not already installed on your machine, it can be obtained by running `conda install -c bioconda gromacs`"
   ]
  },
  {
   "cell_type": "code",
   "execution_count": 1,
   "metadata": {},
   "outputs": [
    {
     "name": "stdout",
     "output_type": "stream",
     "text": [
      "Collecting package metadata (current_repodata.json): done\n",
      "Solving environment: done\n",
      "\n",
      "## Package Plan ##\n",
      "\n",
      "  environment location: /Users/arjunbansal/anaconda3/envs/mosdef36\n",
      "\n",
      "  added / updated specs:\n",
      "    - foyer\n",
      "    - matplotlib\n",
      "    - mbuild\n",
      "    - panedr\n",
      "\n",
      "\n",
      "The following packages will be downloaded:\n",
      "\n",
      "    package                    |            build\n",
      "    ---------------------------|-----------------\n",
      "    foyer-0.7.5                |                2         315 KB  mosdef\n",
      "    ------------------------------------------------------------\n",
      "                                           Total:         315 KB\n",
      "\n",
      "The following packages will be UPDATED:\n",
      "\n",
      "  foyer                                          0.7.4-py_1 --> 0.7.5-2\n",
      "\n",
      "\n",
      "\n",
      "Downloading and Extracting Packages\n",
      "foyer-0.7.5          | 315 KB    | ##################################### | 100% \n",
      "Preparing transaction: done\n",
      "Verifying transaction: done\n",
      "Executing transaction: done\n"
     ]
    }
   ],
   "source": [
    "!conda install --file requirements.txt --yes"
   ]
  },
  {
   "cell_type": "markdown",
   "metadata": {},
   "source": [
    "# Step 1: Using the TraPPE force field\n",
    "\n",
    "The Transferable Potentials for Phase Equilibria (TraPPE) force field is commonly used for studying phase equilibria. More information can be found at these references:\n",
    "1. M.G. Martin, and J.I. Siepmann, Transferable potentials for phase equilibria. 1. United-atom description of n-alkanes J. Phys. Chem. B 102, 2569-2577 (1998).\n",
    "\n",
    "2.  M.S. Shah, M. Tsapatsis, and J.I. Siepmann, Transferable potentials for phase equilibria. Improved united-atom description of ethane and ethylene AIChE J. 63, 5098-5110 (2017).\n",
    "\n",
    "A small portion of TraPPE has been implemented in files provided in this workflow."
   ]
  },
  {
   "cell_type": "markdown",
   "metadata": {},
   "source": [
    "# Step 2: Building the mBuild compound\n",
    "To implement non-atomistic compounds and the bond-less PDB files from the TraPPE website, some modifications will be necessary after creating our `mb.Compound`\n",
    "\n",
    "For extensibility purposes, these functions could be easily wrapped into an mBuild class."
   ]
  },
  {
   "cell_type": "code",
   "execution_count": null,
   "metadata": {},
   "outputs": [],
   "source": [
    "import mbuild as mb\n",
    "\n",
    "\n",
    "cmpd = mb.load('TraPPE_UA_3_propane_monomer1.pdb')\n",
    "cmpd.name = 'Pro'"
   ]
  },
  {
   "cell_type": "markdown",
   "metadata": {},
   "source": [
    "The PDB has some awkward naming conventions that manifest in the mBuild particles.\n",
    "To remedy this, we will convert the particles' names to follow the non-atomistic convention, \n",
    "where particle names are prefaced with an underscore.\n",
    "\n",
    "Furthermore, the PDB file does not contain bond information, so we will manually specify bonds in mBuild."
   ]
  },
  {
   "cell_type": "code",
   "execution_count": null,
   "metadata": {},
   "outputs": [],
   "source": [
    "particles = [a for a in cmpd.particles()]\n",
    "particles"
   ]
  },
  {
   "cell_type": "code",
   "execution_count": null,
   "metadata": {},
   "outputs": [],
   "source": [
    "particles[0].name = \"_\" + particles[0].name[1:]\n",
    "particles[1].name = \"_\" + particles[1].name\n",
    "particles[2].name = \"_\" + particles[2].name[1:]\n",
    "cmpd.add_bond((particles[0], particles[1]))\n",
    "cmpd.add_bond((particles[1], particles[2]))\n",
    "particles"
   ]
  },
  {
   "cell_type": "markdown",
   "metadata": {},
   "source": [
    "After \"cleaning up\" the mBuild compound, we can fill a box to generate a molecular system"
   ]
  },
  {
   "cell_type": "code",
   "execution_count": null,
   "metadata": {},
   "outputs": [],
   "source": [
    "box = mb.fill_box(cmpd, n_compounds=100, box=[3, 3, 3])"
   ]
  },
  {
   "cell_type": "markdown",
   "metadata": {},
   "source": [
    "# Step 3: Applying the foyer force field\n",
    "The foyer XML provided on the TraPPE website requires some modification to fulfill the foyer XML schema.\n",
    "\n",
    "Namely, the `ForceField` XML element should not have the attribute `model`. While this is useful information to document, this is not consistent with the current foyer XML schema, so the attribute needs to be removed.\n",
    "\n",
    "Furthermore, the `HarmonicBondForce`, `HarmonicAngleForce`, and `RBTorsionForce` elements may include DOI information. Again, while this is useful information to document, this is not consistent with the current foyer XML schema, so the DOIs in these XML elements need to be removed. The DOIs in the `AtomTypes` section, however, can be kept.\n",
    "\n",
    "The XML provided in this repo has already modified the TraPPE XML.\n",
    "\n",
    "Note: The \"canonical\" TraPPE implementation utilizes *constrained bonds or fixed bond lengths*, but the listed bond constants within the XML are based on GAFF parametrization for flexible bonds. Please observe this feature within TraPPE to ensure simulation consistency. Additionally, observe that the TraPPE force field excludes 1-4 LJ and Coulombic interactions"
   ]
  },
  {
   "cell_type": "code",
   "execution_count": null,
   "metadata": {},
   "outputs": [],
   "source": [
    "import foyer\n",
    "\n",
    "\n",
    "ff = foyer.Forcefield(forcefield_files='TraPPE_UA_3_fully_flexible_propane.xml')"
   ]
  },
  {
   "cell_type": "code",
   "execution_count": null,
   "metadata": {},
   "outputs": [],
   "source": [
    "structure = box.to_parmed(residues='Pro')\n",
    "parametrized = ff.apply(structure)"
   ]
  },
  {
   "cell_type": "markdown",
   "metadata": {},
   "source": [
    "After parametrizing our compound, we can save the structure to gromacs-suitable files."
   ]
  },
  {
   "cell_type": "code",
   "execution_count": null,
   "metadata": {},
   "outputs": [],
   "source": [
    "parametrized.save('out.gro', overwrite=True)\n",
    "parametrized.save('out.top', overwrite=True)"
   ]
  },
  {
   "cell_type": "markdown",
   "metadata": {},
   "source": [
    "# Step 4: Running the simulation\n",
    "\n",
    "As with most simulation engines, an input or control file is necessary. \n",
    "For gromacs, this is the MDP file. \n",
    "\n",
    "* As mentioned earlier in Step 3, TraPPE typically utilizes fixed bond lengths, so we make sure to specify `constraints = all-bonds`\n",
    "* As specified on the TraPPE website, cutoffs are 1.4 nm, tail corrections for LJ interactions, and Ewald summations for Coulombic interactions\n"
   ]
  },
  {
   "cell_type": "code",
   "execution_count": null,
   "metadata": {},
   "outputs": [],
   "source": [
    "def write_gmx_mdp(filename):\n",
    "    with open(filename, 'w') as f:\n",
    "        f.write(\"\"\"\n",
    "title                     = NVT Equilibration\n",
    "; Run parameters\n",
    "integrator                = md        ; leap-frog integrator\n",
    "nsteps                    = 100000     ; 2 * 5000 = 10ps\n",
    "dt                        = 0.002     ; 2 fs\n",
    "\n",
    "; Output control\n",
    "nstxout                   = 500       ; Every 1.0 ps\n",
    "nstvout                   = 500\n",
    "nstenergy                 = 500\n",
    "nstlog                    = 500\n",
    "\n",
    ";Bond parameters\n",
    "continuation              = no\n",
    "constraint_algorithm    = lincs\n",
    "constraints             =   all-bonds\n",
    "lincs_iter              = 1\n",
    "lincs_order             = 4\n",
    "\n",
    "; Neighbor searching\n",
    "cutoff-scheme           = Verlet\n",
    "nstype                  = grid\n",
    "nstlist                 = 10\n",
    "rcoulomb                = 1.4\n",
    "rvdw                    = 1.4\n",
    "\n",
    "; Electrostatics\n",
    "coulombtype             = PME\n",
    "pme_order               = 4\n",
    "fourierspacing          = 0.16\n",
    "\n",
    "; Temperature coupling\n",
    "tcoupl                  = nose-hoover\n",
    "tc-grps                 = system\n",
    "tau_t                   = 0.4  \n",
    "ref_t                   = 300  \n",
    "\n",
    "; Pressure coupling\n",
    "pcoupl                 = no\n",
    "\n",
    ";Periodic boundary conditions\n",
    "pbc                     = xyz\n",
    "\n",
    ";Dispersion correction\n",
    "DispCorr                = EnerPres\n",
    "\n",
    ";Velocity generation\n",
    "gen_vel                 = yes\n",
    "gen_temp                = 300\n",
    "gen_seed                = -1\"\"\")"
   ]
  },
  {
   "cell_type": "code",
   "execution_count": null,
   "metadata": {},
   "outputs": [],
   "source": [
    "import subprocess\n",
    "\n",
    "\n",
    "write_gmx_mdp('nvt.mdp')\n",
    "grompp_cmd = 'gmx grompp -f nvt.mdp -c out.gro -p out.top -maxwarn 1 -o nvt'\n",
    "p = subprocess.Popen(grompp_cmd, shell=True, universal_newlines=True,\n",
    "                    stdout=subprocess.PIPE, stderr=subprocess.PIPE)\n",
    "out, err = p.communicate()\n",
    "with open('grompp.out', 'w') as f:\n",
    "    f.write(out)\n",
    "with open('grompp.err', 'w') as f:\n",
    "    f.write(err)\n",
    "    \n",
    "mdrun_cmd = 'gmx mdrun -deffnm nvt'\n",
    "p = subprocess.Popen(mdrun_cmd, shell=True, universal_newlines=True,\n",
    "                    stdout=subprocess.PIPE, stderr=subprocess.PIPE)\n",
    "out, err = p.communicate()\n",
    "with open('mdrun.out', 'w') as f:\n",
    "    f.write(out)\n",
    "with open('mdrun.err', 'w') as f:\n",
    "    f.write(err)"
   ]
  },
  {
   "cell_type": "markdown",
   "metadata": {},
   "source": [
    "# Step 5: Analysis\n",
    "\n",
    "Without running enough simulations to fully equilibrate and sample a system, we can simply do a check on the energy of the system as a function of time. We use the `panedr` package to parse the EDR file, which is a binary format, to a `pandas` dataframe."
   ]
  },
  {
   "cell_type": "code",
   "execution_count": null,
   "metadata": {},
   "outputs": [],
   "source": [
    "import panedr\n",
    "\n",
    "df = panedr.edr_to_df('nvt.edr')\n",
    "\n",
    "energies = ['Potential', 'LJ (SR)', 'Angle', 'Coulombic']"
   ]
  },
  {
   "cell_type": "code",
   "execution_count": null,
   "metadata": {
    "scrolled": true
   },
   "outputs": [],
   "source": [
    "import matplotlib.pyplot as plt\n",
    "from mpl_toolkits.axes_grid1.inset_locator import inset_axes, InsetPosition\n",
    "\n",
    "\n",
    "fig, ax = plt.subplots()\n",
    "\n",
    "axins = plt.axes([0,0,1,1])\n",
    "ip = InsetPosition(ax, [0.2,0.5,0.4,0.4])\n",
    "axins.set_axes_locator(ip)\n",
    "\n",
    "for energy in energies:\n",
    "    if energy == 'Coulombic':\n",
    "        ax.plot(df['Time'], df['Coulomb (SR)'] + df['Coul. recip.'], label='Coulomb')\n",
    "        axins.plot(df['Time'], df['Coulomb (SR)'] + df['Coul. recip.'], label='Coulomb')\n",
    "        continue\n",
    "    else:\n",
    "        ax.plot(df['Time'], df[energy], label=energy)\n",
    "        axins.plot(df['Time'], df[energy], label=energy)\n",
    "\n",
    "    ax.set_xlabel('Trajectory time, ps')\n",
    "    ax.set_ylabel('System energy (kJ/mol)')\n",
    "\n",
    "ax.set_ylim((-1000, 2000))\n",
    "axins.set_xlim((-1, 20))\n",
    "axins.set_ylim((-400, 4000))\n",
    "ax.legend()"
   ]
  },
  {
   "cell_type": "markdown",
   "metadata": {},
   "source": [
    "# Concluding Remarks\n",
    "Some low-level routines for constructing a TraPPE molecular simulation have been provided. There is clear room for extensibility to build multiple, different mBuild compounds; to simulate different thermodynamic statepoints; and to do so in a very modular, reproducible fashion. Future work can include disseminating the entire TraPPE force field within an XML, validating dihedral fits within the TraPPE implementation, and adjusting the PDB/XML files on the TraPPE website to ensure MoSDeF consistency."
   ]
  }
 ],
 "metadata": {
  "kernelspec": {
   "display_name": "Python 3",
   "language": "python",
   "name": "python3"
  },
  "language_info": {
   "codemirror_mode": {
    "name": "ipython",
    "version": 3
   },
   "file_extension": ".py",
   "mimetype": "text/x-python",
   "name": "python",
   "nbconvert_exporter": "python",
   "pygments_lexer": "ipython3",
   "version": "3.7.6"
  }
 },
 "nbformat": 4,
 "nbformat_minor": 2
}
