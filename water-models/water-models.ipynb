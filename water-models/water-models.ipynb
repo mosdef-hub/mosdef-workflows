{
 "cells": [
  {
   "cell_type": "markdown",
   "metadata": {},
   "source": [
    "# Water models\n",
    "Here we will demonstrate how MoSDeF can be used to compare two different force fields; in this case, two atomistic water models. Here we are using two rigid, classical 3-site models, [SPC/E](https://doi.org/10.1021/j100308a038) and [tip3p](https://dx.doi.org/10.1063/1.445869)."
   ]
  },
  {
   "cell_type": "markdown",
   "metadata": {},
   "source": [
    "### Installation Requirements\n",
    "The required packages can be installed in a conda environment that can be created with the following command:\n",
    "\n",
    "`conda create --name water-models -c conda-forge -c mosdef -c bioconda -c openbabel mbuild foyer mdtraj matplotlib gromacs openbabel`"
   ]
  },
  {
   "cell_type": "markdown",
   "metadata": {},
   "source": [
    "First, we will use mBuild and foyer to generate initial configurations"
   ]
  },
  {
   "cell_type": "code",
   "execution_count": null,
   "metadata": {},
   "outputs": [],
   "source": [
    "import mbuild as mb\n",
    "from foyer import Forcefield"
   ]
  },
  {
   "cell_type": "code",
   "execution_count": null,
   "metadata": {},
   "outputs": [],
   "source": [
    "water = mb.load('O', smiles=True)\n",
    "water.name = 'water'"
   ]
  },
  {
   "cell_type": "code",
   "execution_count": null,
   "metadata": {},
   "outputs": [],
   "source": [
    "# Generate a water compound from a SMILES string\n",
    "water = mb.load('O', smiles=True)\n",
    "water.name = 'water'"
   ]
  },
  {
   "cell_type": "code",
   "execution_count": null,
   "metadata": {},
   "outputs": [],
   "source": [
    "# Fill a simulation box with water molecules\n",
    "system = mb.fill_box(compound=water, n_compounds=1000, density=993)"
   ]
  },
  {
   "cell_type": "code",
   "execution_count": null,
   "metadata": {},
   "outputs": [],
   "source": [
    "# Load and apply each force field\n",
    "SPCE = Forcefield('files/spce.xml')\n",
    "TIP3P = Forcefield('files/tip3p.xml')\n",
    "\n",
    "system_spce = SPCE.apply(system.to_parmed(residues=['water']))\n",
    "system_tip3p = TIP3P.apply(system.to_parmed(residues=['water']))"
   ]
  },
  {
   "cell_type": "code",
   "execution_count": null,
   "metadata": {},
   "outputs": [],
   "source": [
    "# Save GROMACS files for each system\n",
    "system_spce.save('water_spce.gro', overwrite=True)\n",
    "system_spce.save('water_spce.top', overwrite=True)\n",
    "system_tip3p.save('water_tip3p.gro', overwrite=True)\n",
    "system_tip3p.save('water_tip3p.top', overwrite=True)"
   ]
  },
  {
   "cell_type": "markdown",
   "metadata": {},
   "source": [
    "Now that we have the GRO and TOP files, we can prepare and run GROMACS simulations. These should take approximately an hour each on a typical quad-core laptop."
   ]
  },
  {
   "cell_type": "code",
   "execution_count": null,
   "metadata": {},
   "outputs": [],
   "source": [
    "!gmx grompp -c water_spce.gro -p water_spce.top -f files/npt.mdp -o water_spce.tpr && \\\n",
    " gmx grompp -c water_tip3p.gro -p water_tip3p.top -f files/npt.mdp -o water_tip3p.tpr"
   ]
  },
  {
   "cell_type": "code",
   "execution_count": null,
   "metadata": {},
   "outputs": [],
   "source": [
    "!gmx mdrun -v -deffnm water_spce && \\\n",
    " gmx mdrun -v -deffnm water_tip3p"
   ]
  },
  {
   "cell_type": "markdown",
   "metadata": {},
   "source": [
    "Now that the simulations are complete, we begin our analysis. We will first do some quick time series analyses and then compute a few RDFs. The simulations equilibrate quickly, so we will only throw out the first 100 ps of the trajectories and run analyses on the last 900 ps."
   ]
  },
  {
   "cell_type": "code",
   "execution_count": null,
   "metadata": {},
   "outputs": [],
   "source": [
    "import numpy as np\n",
    "import mdtraj as md\n",
    "import matplotlib.pyplot as plt\n",
    "from mpl_toolkits.axes_grid.inset_locator import InsetPosition"
   ]
  },
  {
   "cell_type": "code",
   "execution_count": null,
   "metadata": {},
   "outputs": [],
   "source": [
    "!echo 4 | gmx energy -f water_spce.edr -o energy_spce.xvg"
   ]
  },
  {
   "cell_type": "code",
   "execution_count": null,
   "metadata": {},
   "outputs": [],
   "source": [
    "!echo 4 | gmx energy -f water_tip3p.edr -o energy_tip3p.xvg"
   ]
  },
  {
   "cell_type": "code",
   "execution_count": null,
   "metadata": {
    "scrolled": false
   },
   "outputs": [],
   "source": [
    "# Calculate the potential energy of the systems\n",
    "fig, ax = plt.subplots()\n",
    "\n",
    "for model in ['spce', 'tip3p']:\n",
    "    data = np.loadtxt(f'energy_{model}.xvg', comments=['#', '@'])\n",
    "\n",
    "    ax.plot(data[:, 0], data[:, 1], label=model)\n",
    "    axins = plt.axes([0,0,1,1])\n",
    "\n",
    "    ip = InsetPosition(ax, [0.2,0.25,0.7,0.5])\n",
    "    axins.set_axes_locator(ip)\n",
    "\n",
    "    axins.plot(data[100:, 0], data[100:, 1])\n",
    "\n",
    "ax.legend(loc=0)\n",
    "ax.set_xlabel('Time, ps')\n",
    "ax.set_ylabel('Potential energy, kJ/mol')"
   ]
  },
  {
   "cell_type": "code",
   "execution_count": null,
   "metadata": {},
   "outputs": [],
   "source": [
    "# Calculate the density of the systems\n",
    "fig, ax = plt.subplots()\n",
    "\n",
    "for model in ['spce', 'tip3p']:\n",
    "    trj = md.load(\n",
    "        f'water_{model}.xtc',\n",
    "        top=f'water_{model}.gro',\n",
    "    )\n",
    "\n",
    "    rho = md.density(trj)\n",
    "\n",
    "    ax.plot(trj.time, rho, label=model)\n",
    "    axins = plt.axes([0,0,1,1])\n",
    "\n",
    "    ip = InsetPosition(ax, [0.2,0.3,0.7,0.4])\n",
    "    axins.set_axes_locator(ip)\n",
    "\n",
    "    axins.plot(trj.time[100:], rho[100:])\n",
    "\n",
    "ax.legend(loc='lower right')\n",
    "ax.set_xlabel('Time, ps')\n",
    "ax.set_ylabel('Density, kg/m^3')"
   ]
  },
  {
   "cell_type": "code",
   "execution_count": null,
   "metadata": {
    "scrolled": true
   },
   "outputs": [],
   "source": [
    "# Calculate the O-O RDF \n",
    "fig, ax = plt.subplots()\n",
    "\n",
    "for model in ['spce', 'tip3p']:\n",
    "    trj = md.load(\n",
    "        f'water_{model}.xtc',\n",
    "        top=f'water_{model}.gro',\n",
    "        stride=2,\n",
    "    )\n",
    "\n",
    "    pairs = trj.top.select_pairs('name O', 'name O')\n",
    "\n",
    "    r, g_r = md.compute_rdf(trj[100:], pairs)\n",
    "\n",
    "    plt.plot(r, g_r, label=model)\n",
    "\n",
    "ax.legend()\n",
    "ax.set_title('O-O RDF')\n",
    "ax.set_xlabel('Interatomic separation, r')\n",
    "ax.set_ylabel('Radial Distribution Function, unitless')"
   ]
  },
  {
   "cell_type": "code",
   "execution_count": null,
   "metadata": {},
   "outputs": [],
   "source": [
    "# Calculate the intramolecular H-H RDF\n",
    "fig, ax = plt.subplots()\n",
    "\n",
    "for model in ['spce', 'tip3p']:\n",
    "    trj = md.load(\n",
    "        f'water_{model}.xtc',\n",
    "        top=f'water_{model}.gro',\n",
    "        stride=10,\n",
    "    )\n",
    "\n",
    "    pairs = trj.top.select_pairs('name H', 'name H')\n",
    "\n",
    "    r, g_r = md.compute_rdf(trj[100:], pairs, r_range=(0.145, 0.17), n_bins=200)\n",
    "\n",
    "    plt.plot(r, g_r, label=model)\n",
    "\n",
    "ax.plot([0.1633, 0.1633], [0, 60], 'k-')\n",
    "ax.plot([0.1513, 0.1513], [0, 60], 'k-')\n",
    "\n",
    "ax.legend()\n",
    "ax.set_title('Intramolecular H-H RDF')\n",
    "ax.set_xlim((0.145, 0.17))\n",
    "ax.set_xlabel('Interatomic separation, r')\n",
    "ax.set_ylabel('Radial Distribution Function, unitless')"
   ]
  },
  {
   "cell_type": "code",
   "execution_count": null,
   "metadata": {
    "scrolled": false
   },
   "outputs": [],
   "source": [
    "# Calculate the intrmolecular O-H RDF\n",
    "fig, ax = plt.subplots()\n",
    "\n",
    "for model in ['spce', 'tip3p']:\n",
    "    trj = md.load(\n",
    "        f'water_{model}.xtc',\n",
    "        top=f'water_{model}.gro',\n",
    "        stride=10,\n",
    "    )\n",
    "\n",
    "    pairs = trj.top.select_pairs('name O', 'name H')\n",
    "\n",
    "    r, g_r = md.compute_rdf(trj[100:], pairs, r_range=(0.085, 0.105), n_bins=200)\n",
    "\n",
    "    plt.plot(r, g_r, label=model)\n",
    "\n",
    "ax.plot([0.09572, 0.09572], [0, 250], 'k-')\n",
    "ax.plot([0.1, 0.1], [0, 250], 'k-')\n",
    "\n",
    "ax.legend()\n",
    "ax.set_title('Intramolecular O-H RDF')\n",
    "ax.set_xlim((0.085, 0.105))\n",
    "ax.set_xlabel('Interatomic separation, r')\n",
    "ax.set_ylabel('Radial Distribution function, unitless')"
   ]
  }
 ],
 "metadata": {
  "kernelspec": {
   "display_name": "Python 3",
   "language": "python",
   "name": "python3"
  },
  "language_info": {
   "codemirror_mode": {
    "name": "ipython",
    "version": 3
   },
   "file_extension": ".py",
   "mimetype": "text/x-python",
   "name": "python",
   "nbconvert_exporter": "python",
   "pygments_lexer": "ipython3",
   "version": "3.7.3"
  }
 },
 "nbformat": 4,
 "nbformat_minor": 2
}
